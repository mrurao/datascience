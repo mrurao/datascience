{
  "nbformat": 4,
  "nbformat_minor": 0,
  "metadata": {
    "colab": {
      "name": "Copy of BERT-For-Humanists_Word-Similarity",
      "provenance": [],
      "collapsed_sections": [],
      "include_colab_link": true
    },
    "kernelspec": {
      "name": "python3",
      "display_name": "Python 3"
    },
    "language_info": {
      "name": "python"
    },
    "accelerator": "GPU"
  },
  "cells": [
    {
      "cell_type": "markdown",
      "metadata": {
        "id": "view-in-github",
        "colab_type": "text"
      },
      "source": [
        "<a href=\"https://colab.research.google.com/github/mrurao/datascience/blob/master/Copy_of_BERT_For_Humanists_Word_Similarity.ipynb\" target=\"_parent\"><img src=\"https://colab.research.google.com/assets/colab-badge.svg\" alt=\"Open In Colab\"/></a>"
      ]
    },
    {
      "cell_type": "markdown",
      "metadata": {
        "id": "ucj6rr9Z7gt3"
      },
      "source": [
        "# BERT Word Search:\n",
        "# Measuring Word Similarity with BERT\n",
        "\n",
        "By The BERT for Humanists Team\n",
        "<br></br>\n",
        "\n",
        "How can we say that two words are similar? Well, one approach is to use BERT.\n",
        "\n",
        "BERT projects tokens in a document into vectors. We can then use the geometric similarity between the resulting token vectors as a way to represent varying types of similarity between words. In this example, we'll take a collection of poems and look for words that have a similar vector to a query word from the collection.\n",
        "\n",
        "The result will be illustrative of what BERT vectors represent, but also of the limitations of the tokenization scheme that it uses."
      ]
    },
    {
      "cell_type": "markdown",
      "metadata": {
        "id": "y73xWUkpU1AC"
      },
      "source": [
        "## **Import necessary Python libraries and modules**"
      ]
    },
    {
      "cell_type": "markdown",
      "metadata": {
        "id": "BJ9kmfrO3M_w"
      },
      "source": [
        "First, we will import a few necessary Python libraries and modules."
      ]
    },
    {
      "cell_type": "code",
      "metadata": {
        "id": "6lcEPhcuV9f5"
      },
      "source": [
        "# For downloading large files from Google Drive\n",
        "# https://github.com/wkentaro/gdown\n",
        "import gdown\n",
        "\n",
        "# For data manipulation and analysis\n",
        "import pandas as pd\n",
        "import numpy as np"
      ],
      "execution_count": null,
      "outputs": []
    },
    {
      "cell_type": "markdown",
      "metadata": {
        "id": "4N0RIalt28yL"
      },
      "source": [
        "To use the HuggingFace [`transformers` Python library](https://huggingface.co/transformers/installation.html), we will install it with `pip`."
      ]
    },
    {
      "cell_type": "code",
      "metadata": {
        "colab": {
          "base_uri": "https://localhost:8080/"
        },
        "id": "mz4lRqP0umyq",
        "outputId": "e34ec8f8-bcb9-46f2-b4fb-1e60bb81cd6a"
      },
      "source": [
        "!pip3 install transformers"
      ],
      "execution_count": null,
      "outputs": [
        {
          "output_type": "stream",
          "text": [
            "Requirement already satisfied: transformers in /usr/local/lib/python3.7/dist-packages (4.4.2)\n",
            "Requirement already satisfied: tokenizers<0.11,>=0.10.1 in /usr/local/lib/python3.7/dist-packages (from transformers) (0.10.1)\n",
            "Requirement already satisfied: tqdm>=4.27 in /usr/local/lib/python3.7/dist-packages (from transformers) (4.41.1)\n",
            "Requirement already satisfied: requests in /usr/local/lib/python3.7/dist-packages (from transformers) (2.23.0)\n",
            "Requirement already satisfied: numpy>=1.17 in /usr/local/lib/python3.7/dist-packages (from transformers) (1.19.5)\n",
            "Requirement already satisfied: sacremoses in /usr/local/lib/python3.7/dist-packages (from transformers) (0.0.43)\n",
            "Requirement already satisfied: regex!=2019.12.17 in /usr/local/lib/python3.7/dist-packages (from transformers) (2019.12.20)\n",
            "Requirement already satisfied: packaging in /usr/local/lib/python3.7/dist-packages (from transformers) (20.9)\n",
            "Requirement already satisfied: importlib-metadata; python_version < \"3.8\" in /usr/local/lib/python3.7/dist-packages (from transformers) (3.7.2)\n",
            "Requirement already satisfied: filelock in /usr/local/lib/python3.7/dist-packages (from transformers) (3.0.12)\n",
            "Requirement already satisfied: idna<3,>=2.5 in /usr/local/lib/python3.7/dist-packages (from requests->transformers) (2.10)\n",
            "Requirement already satisfied: urllib3!=1.25.0,!=1.25.1,<1.26,>=1.21.1 in /usr/local/lib/python3.7/dist-packages (from requests->transformers) (1.24.3)\n",
            "Requirement already satisfied: chardet<4,>=3.0.2 in /usr/local/lib/python3.7/dist-packages (from requests->transformers) (3.0.4)\n",
            "Requirement already satisfied: certifi>=2017.4.17 in /usr/local/lib/python3.7/dist-packages (from requests->transformers) (2020.12.5)\n",
            "Requirement already satisfied: six in /usr/local/lib/python3.7/dist-packages (from sacremoses->transformers) (1.15.0)\n",
            "Requirement already satisfied: click in /usr/local/lib/python3.7/dist-packages (from sacremoses->transformers) (7.1.2)\n",
            "Requirement already satisfied: joblib in /usr/local/lib/python3.7/dist-packages (from sacremoses->transformers) (1.0.1)\n",
            "Requirement already satisfied: pyparsing>=2.0.2 in /usr/local/lib/python3.7/dist-packages (from packaging->transformers) (2.4.7)\n",
            "Requirement already satisfied: typing-extensions>=3.6.4; python_version < \"3.8\" in /usr/local/lib/python3.7/dist-packages (from importlib-metadata; python_version < \"3.8\"->transformers) (3.7.4.3)\n",
            "Requirement already satisfied: zipp>=0.5 in /usr/local/lib/python3.7/dist-packages (from importlib-metadata; python_version < \"3.8\"->transformers) (3.4.1)\n"
          ],
          "name": "stdout"
        }
      ]
    },
    {
      "cell_type": "code",
      "metadata": {
        "id": "diwLyDIvMMhd"
      },
      "source": [
        "from transformers import DistilBertTokenizerFast, DistilBertModel"
      ],
      "execution_count": null,
      "outputs": []
    },
    {
      "cell_type": "markdown",
      "metadata": {
        "id": "P_C4hiuqvt5L"
      },
      "source": [
        "## **Load Poetry dataset**"
      ]
    },
    {
      "cell_type": "markdown",
      "metadata": {
        "id": "4olw75x3vt5N"
      },
      "source": [
        "The dataset that we're going to use in this notebook contains most of the poems found on PoetryFoundation.org, which were collected and uploaded to [Kaggle](https://www.kaggle.com/johnhallman/complete-poetryfoundationorg-dataset?select=kaggle_poem_dataset.csv) by John Hallman. We downloaded this dataset from Kaggle and then uploaded it to Google Drive.\n",
        "\n",
        "To download a file from Google Drive and use it in a Colab notebook environment, we need to do two things:  \n",
        "1. Alter a Google Drive share link so that it can be downloaded \n",
        "2. Use `gdown()` to download the data with this new link "
      ]
    },
    {
      "cell_type": "markdown",
      "metadata": {
        "id": "KiFXuMdrMHlQ"
      },
      "source": [
        "**Here's how to convert a Google Drive share link into a download link (generalized example)**:\n",
        "\n",
        "Google Drive share and view link: `https://drive.google.com/file/d/UNIQUE-ID/view?usp=sharing`\n",
        "\n",
        "Google Drive download link: `https://drive.google.com/uc?export=download&id=UNIQUE-ID`\n",
        "\n",
        "\n",
        "\n",
        "---\n",
        "**Here's how to convert a Google Drive share link into a download link (specific example)**:\n",
        "\n",
        "Google Drive share and view link (Poetry Foundation example): https://drive.google.com/file/d/1PERnd0l6QRmuu-Nt9cyvAU8E0ffIpCdv/view?usp=sharing\n",
        "\n",
        "Google Drive download link (Poetry Foundation example): https://drive.google.com/uc?export=download&id=1PERnd0l6QRmuu-Nt9cyvAU8E0ffIpCdv\n",
        "\n"
      ]
    },
    {
      "cell_type": "markdown",
      "metadata": {
        "id": "eC089uLmdMBz"
      },
      "source": [
        "Here we download the CSV file from Google Drive and rename it `poetry_foundation.csv`"
      ]
    },
    {
      "cell_type": "code",
      "metadata": {
        "colab": {
          "base_uri": "https://localhost:8080/",
          "height": 105
        },
        "id": "PirpnUHfKnoX",
        "outputId": "2e752efb-41fd-41a7-e75e-d05be898e8e7"
      },
      "source": [
        "gdown.download(\"https://drive.google.com/uc?export=download&id=1PERnd0l6QRmuu-Nt9cyvAU8E0ffIpCdv\", output=\"poetry_foundation.csv\", quiet=False)"
      ],
      "execution_count": null,
      "outputs": [
        {
          "output_type": "stream",
          "text": [
            "Downloading...\n",
            "From:  https://drive.google.com/uc?export=download&id=1PERnd0l6QRmuu-Nt9cyvAU8E0ffIpCdv\n",
            "To: /content/poetry_foundation.csv\n",
            "23.4MB [00:00, 87.6MB/s]\n"
          ],
          "name": "stderr"
        },
        {
          "output_type": "execute_result",
          "data": {
            "application/vnd.google.colaboratory.intrinsic+json": {
              "type": "string"
            },
            "text/plain": [
              "'poetry_foundation.csv'"
            ]
          },
          "metadata": {
            "tags": []
          },
          "execution_count": 4
        }
      ]
    },
    {
      "cell_type": "markdown",
      "metadata": {
        "id": "520GQHH_jB84"
      },
      "source": [
        "**NOTE**: Another handy way to upload files to Colab is to use the following:"
      ]
    },
    {
      "cell_type": "code",
      "metadata": {
        "id": "Ka7zuD4Viswn"
      },
      "source": [
        "#from google.colab import files\n",
        "#uploaded = files.upload()"
      ],
      "execution_count": null,
      "outputs": []
    },
    {
      "cell_type": "markdown",
      "metadata": {
        "id": "KwZzU8bA2MU-"
      },
      "source": [
        "Here we're using Pandas to read in our CSV file and inspect the first few rows. To be clear, knowledge of Pandas is not necessary to use BERT. This is simply how we've chosen to load our data, and you can load your own data however you are most comfortable."
      ]
    },
    {
      "cell_type": "code",
      "metadata": {
        "colab": {
          "base_uri": "https://localhost:8080/",
          "height": 198
        },
        "id": "O1tvz3gsvt5O",
        "outputId": "37f9c931-177f-4aab-f023-dc6d1d5d889d"
      },
      "source": [
        "poetry_df = pd.read_csv(\"poetry_foundation.csv\", encoding='utf-8')\n",
        "poetry_df.head()"
      ],
      "execution_count": null,
      "outputs": [
        {
          "output_type": "execute_result",
          "data": {
            "text/html": [
              "<div>\n",
              "<style scoped>\n",
              "    .dataframe tbody tr th:only-of-type {\n",
              "        vertical-align: middle;\n",
              "    }\n",
              "\n",
              "    .dataframe tbody tr th {\n",
              "        vertical-align: top;\n",
              "    }\n",
              "\n",
              "    .dataframe thead th {\n",
              "        text-align: right;\n",
              "    }\n",
              "</style>\n",
              "<table border=\"1\" class=\"dataframe\">\n",
              "  <thead>\n",
              "    <tr style=\"text-align: right;\">\n",
              "      <th></th>\n",
              "      <th>Unnamed: 0</th>\n",
              "      <th>Author</th>\n",
              "      <th>Title</th>\n",
              "      <th>Poetry Foundation ID</th>\n",
              "      <th>Content</th>\n",
              "    </tr>\n",
              "  </thead>\n",
              "  <tbody>\n",
              "    <tr>\n",
              "      <th>0</th>\n",
              "      <td>0</td>\n",
              "      <td>Wendy Videlock</td>\n",
              "      <td>!</td>\n",
              "      <td>55489</td>\n",
              "      <td>Dear Writers, I’m compiling the first in what ...</td>\n",
              "    </tr>\n",
              "    <tr>\n",
              "      <th>1</th>\n",
              "      <td>1</td>\n",
              "      <td>Hailey Leithauser</td>\n",
              "      <td>0</td>\n",
              "      <td>41729</td>\n",
              "      <td>Philosophic\\nin its complex, ovoid emptiness,\\...</td>\n",
              "    </tr>\n",
              "    <tr>\n",
              "      <th>2</th>\n",
              "      <td>2</td>\n",
              "      <td>Jody Gladding</td>\n",
              "      <td>1-800-FEAR</td>\n",
              "      <td>57135</td>\n",
              "      <td>We'd  like  to  talk  with  you  about  fear t...</td>\n",
              "    </tr>\n",
              "    <tr>\n",
              "      <th>3</th>\n",
              "      <td>3</td>\n",
              "      <td>Joseph Brodsky</td>\n",
              "      <td>1 January 1965</td>\n",
              "      <td>56736</td>\n",
              "      <td>The Wise Men will unlearn your name.\\nAbove yo...</td>\n",
              "    </tr>\n",
              "    <tr>\n",
              "      <th>4</th>\n",
              "      <td>4</td>\n",
              "      <td>Ted Berrigan</td>\n",
              "      <td>3 Pages</td>\n",
              "      <td>51624</td>\n",
              "      <td>For Jack Collom\\n10 Things I do Every Day\\n\\np...</td>\n",
              "    </tr>\n",
              "  </tbody>\n",
              "</table>\n",
              "</div>"
            ],
            "text/plain": [
              "   Unnamed: 0  ...                                            Content\n",
              "0           0  ...  Dear Writers, I’m compiling the first in what ...\n",
              "1           1  ...  Philosophic\\nin its complex, ovoid emptiness,\\...\n",
              "2           2  ...  We'd  like  to  talk  with  you  about  fear t...\n",
              "3           3  ...  The Wise Men will unlearn your name.\\nAbove yo...\n",
              "4           4  ...  For Jack Collom\\n10 Things I do Every Day\\n\\np...\n",
              "\n",
              "[5 rows x 5 columns]"
            ]
          },
          "metadata": {
            "tags": []
          },
          "execution_count": 6
        }
      ]
    },
    {
      "cell_type": "markdown",
      "metadata": {
        "id": "5hEEID8eObWT"
      },
      "source": [
        "Let's check to see how many poems are in this dataset:"
      ]
    },
    {
      "cell_type": "code",
      "metadata": {
        "colab": {
          "base_uri": "https://localhost:8080/"
        },
        "id": "g8QQS9tuOXSh",
        "outputId": "398c0274-6ace-420f-d4ef-c339fb8a5010"
      },
      "source": [
        "len(poetry_df)"
      ],
      "execution_count": null,
      "outputs": [
        {
          "output_type": "execute_result",
          "data": {
            "text/plain": [
              "15652"
            ]
          },
          "metadata": {
            "tags": []
          },
          "execution_count": 82
        }
      ]
    },
    {
      "cell_type": "markdown",
      "metadata": {
        "id": "p_UE87chOQEd"
      },
      "source": [
        "Let's check to see which authors show up the most in this dataset to get a sense of its contours:"
      ]
    },
    {
      "cell_type": "code",
      "metadata": {
        "colab": {
          "base_uri": "https://localhost:8080/"
        },
        "id": "joWGYvxWOBij",
        "outputId": "90305e5b-103e-45d0-fcec-90400a2b3f1b"
      },
      "source": [
        "poetry_df['Author'].value_counts()[:20]"
      ],
      "execution_count": null,
      "outputs": [
        {
          "output_type": "execute_result",
          "data": {
            "text/plain": [
              "William Shakespeare           85\n",
              "Anonymous                     82\n",
              "Alfred, Lord Tennyson         78\n",
              "Rae Armantrout                62\n",
              "William Wordsworth            59\n",
              "Emily Dickinson               57\n",
              "William Butler Yeats          47\n",
              "John Ashbery                  46\n",
              "Yusef Komunyakaa              43\n",
              "Percy sshe Shelley            43\n",
              "John Donne                    42\n",
              "Walt Whitman                  41\n",
              "Kay Ryan                      40\n",
              "Algernon Charles Swinburne    39\n",
              "Sir Philip Sidney             39\n",
              "Robert Browning               39\n",
              "William Blake                 38\n",
              "Henry Wadsworth Longfellow    38\n",
              "Thomas Hardy                  38\n",
              "Samuel Menashe                38\n",
              "Name: Author, dtype: int64"
            ]
          },
          "metadata": {
            "tags": []
          },
          "execution_count": 83
        }
      ]
    },
    {
      "cell_type": "markdown",
      "metadata": {
        "id": "hebn8lYhOffh"
      },
      "source": [
        "There are a lot of poems here. So we're going to take a random sample of 5,000 poems that are 2,000 characters or fewer."
      ]
    },
    {
      "cell_type": "code",
      "metadata": {
        "id": "prt9OsDPv63i"
      },
      "source": [
        "poetry_df = poetry_df[poetry_df['Content'].str.len() < 2000]"
      ],
      "execution_count": null,
      "outputs": []
    },
    {
      "cell_type": "code",
      "metadata": {
        "id": "JPRmKRp-3B05"
      },
      "source": [
        "poetry_df = poetry_df.sample(5000)"
      ],
      "execution_count": null,
      "outputs": []
    },
    {
      "cell_type": "markdown",
      "metadata": {
        "id": "7B5soBd4vt5O"
      },
      "source": [
        "Next we're going to take this Pandas DataFrame and make three lists: `poetry_authors`, `poetry_titles`, `poetry_texts`."
      ]
    },
    {
      "cell_type": "code",
      "metadata": {
        "id": "Z70pWivdvt5O"
      },
      "source": [
        "poetry_authors = poetry_df['Author'].tolist()\n",
        "poetry_titles = poetry_df['Title'].tolist()\n",
        "poetry_texts = poetry_df['Content'].tolist()"
      ],
      "execution_count": null,
      "outputs": []
    },
    {
      "cell_type": "markdown",
      "metadata": {
        "id": "YYTijALvvt5O"
      },
      "source": [
        "Let's check the lengths of the lists that we created:"
      ]
    },
    {
      "cell_type": "code",
      "metadata": {
        "colab": {
          "base_uri": "https://localhost:8080/"
        },
        "id": "-CktiYltvt5P",
        "outputId": "a17ef3ff-811b-4468-bfd9-48461b61a920"
      },
      "source": [
        "len(poetry_authors), len(poetry_titles), len(poetry_texts)"
      ],
      "execution_count": null,
      "outputs": [
        {
          "output_type": "execute_result",
          "data": {
            "text/plain": [
              "(5000, 5000, 5000)"
            ]
          },
          "metadata": {
            "tags": []
          },
          "execution_count": 87
        }
      ]
    },
    {
      "cell_type": "markdown",
      "metadata": {
        "id": "TGi0nOaevt5P"
      },
      "source": [
        "Let's examine a poem in our dataset:"
      ]
    },
    {
      "cell_type": "code",
      "metadata": {
        "colab": {
          "base_uri": "https://localhost:8080/"
        },
        "id": "jl2UYJSkvt5P",
        "outputId": "d48b8e04-2ead-4ac9-e7eb-d0817ae3c461"
      },
      "source": [
        "print(poetry_titles[8], '\\n\\n', poetry_authors[8], '\\n\\n', poetry_texts[8])"
      ],
      "execution_count": null,
      "outputs": [
        {
          "output_type": "stream",
          "text": [
            "Extempore Effusion upon the Death of James Hogg \n",
            "\n",
            " William Wordsworth \n",
            "\n",
            " When first, descending from the moorlands,\n",
            "I saw the Stream of Yarrow glide\n",
            "Along a bare and open valley,\n",
            "The Ettrick Shepherd was my guide.\n",
            "\n",
            "When last along its banks I wandered,\n",
            "Through groves that had begun to shed\n",
            "Their golden leaves upon the pathways,\n",
            "My steps the Border-minstrel led.\n",
            "\n",
            "The mighty Minstrel breathes no longer,\n",
            "'Mid mouldering ruins low he lies;\n",
            "And death upon the braes of Yarrow,\n",
            "Has closed the Shepherd-poet's eyes:\n",
            "\n",
            "Nor has the rolling year twice measured,\n",
            "From sign to sign, its stedfast course,\n",
            "Since every mortal power of Coleridge\n",
            "Was frozen at its marvellous source;\n",
            "\n",
            "The rapt One, of the godlike forehead,\n",
            "The heaven-eyed creature sleeps in earth:\n",
            "And Lamb, the frolic and the gentle,\n",
            "Has vanished from his lonely hearth.\n",
            "\n",
            "Like clouds that rake the mountain-summits,\n",
            "Or waves that own no curbing hand,\n",
            "How fast has brother followed brother,\n",
            "From sunshine to the sunless land!\n",
            "\n",
            "Yet I, whose lids from infant slumber\n",
            "Were earlier raised, remain to hear\n",
            "A timid voice, that asks in whispers,\n",
            "\"Who next will drop and disappear?\"\n",
            "\n",
            "Our haughty life is crowned with darkness,\n",
            "Like London with its own black wreath,\n",
            "On which with thee, O Crabbe! forth-looking,\n",
            "I gazed from Hampstead's breezy heath.\n",
            "\n",
            "As if but yesterday departed,\n",
            "Thou too art gone before; but why,\n",
            "O'er ripe fruit, seasonably gathered,\n",
            "Should frail survivors heave a sigh?\n",
            "\n",
            "Mourn rather for that holy Spirit,\n",
            "Sweet as the spring, as ocean deep;\n",
            "For Her who, ere her summer faded,\n",
            "Has sunk into a breathless sleep.\n",
            "\n",
            "No more of old romantic sorrows,\n",
            "For slaughtered Youth or love-lorn Maid!\n",
            "With sharper grief is Yarrow smitten,\n",
            "And Ettrick mourns with her their Poet dead.\n"
          ],
          "name": "stdout"
        }
      ]
    },
    {
      "cell_type": "markdown",
      "metadata": {
        "id": "rTDNuhAqyMQC"
      },
      "source": [
        "<br><br>\n",
        "\n",
        "## **Encode data for BERT**\n",
        "\n",
        "We're going to transform our poems into a format that BERT (via Huggingface) will understand. This is called *encoding* the data.\n",
        "\n",
        "Here are the steps we need to follow:\n",
        "\n",
        "1. The texts — in this case, poems — need to be truncated if they're more than 512 tokens or padded if they're fewer than 512 tokens. The tokens, or words in the texts, also need to be separated into \"word pieces.\"\n",
        "\n",
        "2. We need to add special tokens to help BERT:\n",
        "    - [CLS] — Start token of every document\n",
        "    - [SEP] — Separator between each sentence \n",
        "    - [PAD] — Padding at the end of the document as many times as necessary, up to 512 tokens\n",
        "    - &#35;&#35; — Start of a \"word piece\" \n",
        "\n",
        "| BERT special token | Explanation |\n",
        "| --------------| ---------|\n",
        "| [CLS] | Start token of every document. |\n",
        "| [SEP] | Separator between each sentence |\n",
        "| [PAD] | Padding at the end of the document as many times as necessary, up to 512 tokens |\n",
        "|  &#35;&#35; | Start of a \"word piece\" |"
      ]
    },
    {
      "cell_type": "markdown",
      "metadata": {
        "id": "XKgQkdodA-Jz"
      },
      "source": [
        "Here we will load `DistilBertTokenizerFast` from HuggingFace library, which will help us transform and encode the texts so they can be used with BERT."
      ]
    },
    {
      "cell_type": "code",
      "metadata": {
        "id": "cTa04n_-ZI-8"
      },
      "source": [
        "from transformers import DistilBertTokenizerFast"
      ],
      "execution_count": null,
      "outputs": []
    },
    {
      "cell_type": "code",
      "metadata": {
        "id": "uDuGq_n4pgZX"
      },
      "source": [
        "tokenizer = DistilBertTokenizerFast.from_pretrained('distilbert-base-uncased')"
      ],
      "execution_count": null,
      "outputs": []
    },
    {
      "cell_type": "markdown",
      "metadata": {
        "id": "7LbZPuonBIJl"
      },
      "source": [
        "The `tokenizer()` will break word tokens into word pieces, truncate to 512 tokens, and add padding and special BERT tokens."
      ]
    },
    {
      "cell_type": "code",
      "metadata": {
        "id": "BPoDCzIx_17F"
      },
      "source": [
        "tokenized_poems = tokenizer(poetry_texts, truncation=True, padding=True, return_tensors=\"pt\")"
      ],
      "execution_count": null,
      "outputs": []
    },
    {
      "cell_type": "markdown",
      "metadata": {
        "id": "MulyNi6jBMIK"
      },
      "source": [
        "Let's examine the first tokenized sonnet. We can see that the special BERT tokens have been inserted where necessary."
      ]
    },
    {
      "cell_type": "code",
      "metadata": {
        "colab": {
          "base_uri": "https://localhost:8080/",
          "height": 346
        },
        "id": "4A89SN_ppiUP",
        "outputId": "04a6a32c-49df-4b72-e39b-a95dd196e157"
      },
      "source": [
        "' '.join(tokenized_poems[8].tokens)"
      ],
      "execution_count": null,
      "outputs": [
        {
          "output_type": "execute_result",
          "data": {
            "application/vnd.google.colaboratory.intrinsic+json": {
              "type": "string"
            },
            "text/plain": [
              "'[CLS] when first , descending from the moor ##lands , i saw the stream of ya ##rrow glide along a bare and open valley , the et ##trick shepherd was my guide . when last along its banks i wandered , through groves that had begun to shed their golden leaves upon the pathways , my steps the border - min ##strel led . the mighty min ##strel breathe ##s no longer , \\' mid mo ##uld ##ering ruins low he lies ; and death upon the bra ##es of ya ##rrow , has closed the shepherd - poet \\' s eyes : nor has the rolling year twice measured , from sign to sign , its ste ##df ##ast course , since every mortal power of cole ##ridge was frozen at its marvel ##lous source ; the rap ##t one , of the god ##like forehead , the heaven - eyed creature sleeps in earth : and lamb , the fr ##olic and the gentle , has vanished from his lonely hearth . like clouds that rake the mountain - summit ##s , or waves that own no curb ##ing hand , how fast has brother followed brother , from sunshine to the sun ##less land ! yet i , whose lids from infant sl ##umber were earlier raised , remain to hear a tim ##id voice , that asks in whispers , \" who next will drop and disappear ? \" our ha ##ught ##y life is crowned with darkness , like london with its own black wreath , on which with thee , o crab ##be ! forth - looking , i gazed from hampstead \\' s bree ##zy heath . as if but yesterday departed , thou too art gone before ; but why , o \\' er ripe fruit , season ##ably gathered , should frail survivors he ##ave a sigh ? mo ##urn rather for that holy spirit , sweet as the spring , as ocean deep ; for her who , er ##e her summer faded , has sunk into a breathless sleep . no more of old romantic sorrow ##s , for slaughtered youth or love - lo ##rn maid ! with sharpe ##r grief is ya ##rrow sm ##itte ##n , and et ##trick mo ##urn ##s with her their poet dead . [SEP] [PAD] [PAD] [PAD] [PAD] [PAD] [PAD] [PAD] [PAD] [PAD] [PAD] [PAD] [PAD] [PAD] [PAD] [PAD] [PAD] [PAD] [PAD] [PAD] [PAD] [PAD] [PAD] [PAD] [PAD] [PAD] [PAD] [PAD] [PAD] [PAD] [PAD] [PAD] [PAD] [PAD] [PAD] [PAD] [PAD] [PAD] [PAD] [PAD] [PAD] [PAD] [PAD] [PAD] [PAD] [PAD] [PAD] [PAD] [PAD] [PAD] [PAD] [PAD] [PAD] [PAD] [PAD] [PAD] [PAD] [PAD] [PAD] [PAD] [PAD] [PAD] [PAD] [PAD] [PAD] [PAD] [PAD] [PAD] [PAD] [PAD] [PAD] [PAD] [PAD] [PAD] [PAD] [PAD] [PAD] [PAD] [PAD] [PAD] [PAD] [PAD] [PAD] [PAD] [PAD] [PAD] [PAD] [PAD] [PAD] [PAD] [PAD] [PAD] [PAD] [PAD] [PAD] [PAD] [PAD] [PAD] [PAD] [PAD] [PAD] [PAD] [PAD] [PAD] [PAD] [PAD] [PAD] [PAD] [PAD] [PAD] [PAD] [PAD] [PAD] [PAD] [PAD] [PAD] [PAD] [PAD] [PAD] [PAD]'"
            ]
          },
          "metadata": {
            "tags": []
          },
          "execution_count": 105
        }
      ]
    },
    {
      "cell_type": "markdown",
      "metadata": {
        "id": "OkVgFcbCqKSu"
      },
      "source": [
        "<br><br>\n",
        "\n",
        "## **Load pre-trained BERT model**"
      ]
    },
    {
      "cell_type": "markdown",
      "metadata": {
        "id": "dGVbuDJ0BXQ2"
      },
      "source": [
        "Here we will load a pre-trained BERT model. To speed things up we will use a GPU, but using GPU involves a few extra steps.\n",
        "The command `.to(\"cuda\")` moves data from regular memory to the GPU's memory.\n",
        "\n",
        "\n"
      ]
    },
    {
      "cell_type": "code",
      "metadata": {
        "id": "U1I4FthqzFjW"
      },
      "source": [
        "from transformers import DistilBertModel"
      ],
      "execution_count": null,
      "outputs": []
    },
    {
      "cell_type": "code",
      "metadata": {
        "id": "a7k75REXp7UJ"
      },
      "source": [
        "model = DistilBertModel.from_pretrained('distilbert-base-uncased').to(\"cuda\")"
      ],
      "execution_count": null,
      "outputs": []
    },
    {
      "cell_type": "code",
      "metadata": {
        "id": "F_ceUgX9M0xP"
      },
      "source": [
        "num_docs = len(poetry_texts)"
      ],
      "execution_count": null,
      "outputs": []
    },
    {
      "cell_type": "code",
      "metadata": {
        "id": "sm_tOuWCNzcr",
        "colab": {
          "base_uri": "https://localhost:8080/"
        },
        "outputId": "f023f913-a4c5-438f-97c3-19bb29a64fd0"
      },
      "source": [
        "num_docs"
      ],
      "execution_count": null,
      "outputs": [
        {
          "output_type": "execute_result",
          "data": {
            "text/plain": [
              "5000"
            ]
          },
          "metadata": {
            "tags": []
          },
          "execution_count": 16
        }
      ]
    },
    {
      "cell_type": "markdown",
      "metadata": {
        "id": "W-vSpKnKBZWJ"
      },
      "source": [
        "Now we will loop through the poems and convert each poem from a single string into the BERT input representation using the `tokenizer()`.\n",
        "\n",
        "Then we will ask for all of the token-level vectors in the poem.\n",
        "\n",
        "Finally, we will save vectors for every token *except* the 0th one (the `CLS` token) and the last one (the `SEP` token), which is at position `-1`."
      ]
    },
    {
      "cell_type": "code",
      "metadata": {
        "id": "j58TvTCd_kxI"
      },
      "source": [
        "doc_token_vectors = []\n",
        "doc_tokens = []\n",
        "\n",
        "for i, poem in enumerate(poetry_texts):\n",
        "    # Here we tokenize each poem with the DistilBERT Tokenizer\n",
        "    inputs = tokenizer(poem, return_tensors=\"pt\", truncation=True, padding=True)\n",
        "    doc_tokens.append(inputs.input_ids[0].numpy()[1:-1])\n",
        "    # Here we send the tokenized poems to the GPU\n",
        "    inputs.to(\"cuda\")\n",
        "    # Here we run the tokenized poem through the DistilBERT model\n",
        "    outputs = model(**inputs)\n",
        "\n",
        "    \n",
        "    first_document = 0\n",
        "    second_position = 1\n",
        "    last_position = -1\n",
        "\n",
        "    # We take every element from the first or 0th document, from the 2nd to the 2nd to last position\n",
        "    #  doc_token_vectors.append(outputs.last_hidden_state[0,1:-1,:].detach().cpu().numpy())\n",
        "    doc_token_vectors.append(outputs.last_hidden_state[first_document,second_position:last_position,:].detach().cpu().numpy())\n"
      ],
      "execution_count": null,
      "outputs": []
    },
    {
      "cell_type": "markdown",
      "metadata": {
        "id": "B4pV1fw61rgT"
      },
      "source": [
        "Confirm that we have the same number of documents for both the tokens and the vectors:"
      ]
    },
    {
      "cell_type": "code",
      "metadata": {
        "id": "RFYsrpeF3C43",
        "colab": {
          "base_uri": "https://localhost:8080/"
        },
        "outputId": "82072918-6f9e-4a32-af22-4dd61182d9ad"
      },
      "source": [
        "len(doc_tokens), len(doc_token_vectors)"
      ],
      "execution_count": null,
      "outputs": [
        {
          "output_type": "execute_result",
          "data": {
            "text/plain": [
              "(5000, 5000)"
            ]
          },
          "metadata": {
            "tags": []
          },
          "execution_count": 18
        }
      ]
    },
    {
      "cell_type": "code",
      "metadata": {
        "id": "91SFkQGVHyDV",
        "colab": {
          "base_uri": "https://localhost:8080/"
        },
        "outputId": "f24eb494-943d-4e45-a628-5a353a1d0440"
      },
      "source": [
        "doc_tokens[0], doc_token_vectors[0]"
      ],
      "execution_count": null,
      "outputs": [
        {
          "output_type": "execute_result",
          "data": {
            "text/plain": [
              "(array([ 3904,  1997,  2149, 19821,  2256,  2466,  2488,  2084,  2023,\n",
              "         3904, 16778,  3723,  1010,  9787,  7540,  1997,  3267,  1010,\n",
              "         9690,  2256,  2691,  6687, 29454,  5844,  2012,  1996,  3953,\n",
              "         1997,  1996,  2712,  1012,  1996,  6687,  1010,  2205,  1010,\n",
              "         1997, 24318,  1998, 15606,  1010,  1997, 21484,  1998,  4731,\n",
              "         1010,  2320,  2009,  2001,  4326,  3432,  2005,  2108,  2025,\n",
              "         1037,  2600,  2993,  1517,  2025,  2600,  1010,  2021,  1037,\n",
              "         8744,  3637,  2006,  1037,  2600, 11142,  1012,  1998,  1010,\n",
              "         6171, 13026,  2000,  1996,  2600,  1010,  2000,  2712,  1998,\n",
              "         2712,  1011,  6497, 12699,  2083,  2049,  3096,  1010,  2009,\n",
              "         4282,  1010,  2348,  2009,  2987,  1521,  1056,  2113,  2009,\n",
              "         4282,  1010,  2008,  9273,  1998,  2037, 23689, 17301,  2595,\n",
              "         2024,  2035,  2028,  2518,  1012,  2070,  2156,  2049,  2126,\n",
              "         1997,  3241,  1025,  2087,  1010,  2025,  2664,  1012,  2145,\n",
              "         1010,  2028,  2154,  1010,  2074,  2011,  2542,  1010,  2035,\n",
              "         2097,  2424,  3114,  2438,  2306,  3209,  2000,  2228,  1996,\n",
              "         2309,  2245,  5091,  1999,  2049,  2568,  1012]),\n",
              " array([[-0.5029435 ,  0.10934334,  0.05669333, ...,  0.34930483,\n",
              "          0.80141914,  0.19139518],\n",
              "        [-0.39466444,  0.28149387,  0.12675346, ...,  0.11887605,\n",
              "          0.59666896, -0.4049218 ],\n",
              "        [-0.17840953,  0.26354927, -0.20749548, ...,  0.14244162,\n",
              "          0.8616274 , -0.16997431],\n",
              "        ...,\n",
              "        [-0.3439908 ,  0.25007603,  0.35797954, ...,  0.04678544,\n",
              "          0.15549682,  0.6457262 ],\n",
              "        [ 0.40621102,  0.12333672, -0.24911787, ...,  0.00516931,\n",
              "         -0.08611474,  0.15597211],\n",
              "        [ 0.05442379, -0.4351915 , -0.24272852, ...,  0.600948  ,\n",
              "          0.01050071, -0.7192116 ]], dtype=float32))"
            ]
          },
          "metadata": {
            "tags": []
          },
          "execution_count": 19
        }
      ]
    },
    {
      "cell_type": "markdown",
      "metadata": {
        "id": "Gf-9YAo814wM"
      },
      "source": [
        "Each element of these lists contains all the tokens/vectors for one document. Now concatenate them into one giant collection and make sure that the length is still the same."
      ]
    },
    {
      "cell_type": "code",
      "metadata": {
        "id": "afOPAzVoczRW"
      },
      "source": [
        "all_token_vectors = np.concatenate(doc_token_vectors, axis=0)"
      ],
      "execution_count": null,
      "outputs": []
    },
    {
      "cell_type": "code",
      "metadata": {
        "id": "O45uC7dcc5j1",
        "colab": {
          "base_uri": "https://localhost:8080/"
        },
        "outputId": "00a4740a-14df-41c7-b307-3123fc8991ce"
      },
      "source": [
        "all_token_vectors.shape"
      ],
      "execution_count": null,
      "outputs": [
        {
          "output_type": "execute_result",
          "data": {
            "text/plain": [
              "(979560, 768)"
            ]
          },
          "metadata": {
            "tags": []
          },
          "execution_count": 21
        }
      ]
    },
    {
      "cell_type": "markdown",
      "metadata": {
        "id": "wQafcvCqt0Uf"
      },
      "source": [
        "We want to make comparisons between vectors quickly. One common option is *cosine similarity*, which measures the angle between vectors but ignores their length. We can speed this computation up by setting all the poem vectors to have length 1.0."
      ]
    },
    {
      "cell_type": "code",
      "metadata": {
        "id": "ogECz92C4T09"
      },
      "source": [
        "row_norms = np.sqrt(np.sum(all_token_vectors ** 2, axis=1))\n",
        "all_token_vectors /= row_norms[:,np.newaxis]"
      ],
      "execution_count": null,
      "outputs": []
    },
    {
      "cell_type": "code",
      "metadata": {
        "id": "OyQmDt6C3zs4"
      },
      "source": [
        "all_token_ids = np.concatenate(doc_tokens)"
      ],
      "execution_count": null,
      "outputs": []
    },
    {
      "cell_type": "code",
      "metadata": {
        "id": "YGMFU7jr2IGs",
        "colab": {
          "base_uri": "https://localhost:8080/"
        },
        "outputId": "874215ef-6268-4094-cb92-edca96854edf"
      },
      "source": [
        "all_token_ids.shape"
      ],
      "execution_count": null,
      "outputs": [
        {
          "output_type": "execute_result",
          "data": {
            "text/plain": [
              "(979560,)"
            ]
          },
          "metadata": {
            "tags": []
          },
          "execution_count": 24
        }
      ]
    },
    {
      "cell_type": "markdown",
      "metadata": {
        "id": "CIvbkXbV_9n9"
      },
      "source": [
        "We can use these arrays to find all the instances of a word in the collection. Here I'll get the ID for **bank** and then find the token positions of every instance of that ID."
      ]
    },
    {
      "cell_type": "code",
      "metadata": {
        "id": "95QvvBZmCsBU"
      },
      "source": [
        "search_keyword = \"bank\""
      ],
      "execution_count": null,
      "outputs": []
    },
    {
      "cell_type": "code",
      "metadata": {
        "id": "yX9IzoyN2VfF"
      },
      "source": [
        "word_positions = np.where(all_token_ids == tokenizer.vocab[search_keyword])[0]"
      ],
      "execution_count": null,
      "outputs": []
    },
    {
      "cell_type": "code",
      "metadata": {
        "id": "8kRB58yy3ixK",
        "colab": {
          "base_uri": "https://localhost:8080/"
        },
        "outputId": "f1bd7a47-4db1-4206-8e39-f4179fba4092"
      },
      "source": [
        "word_positions"
      ],
      "execution_count": null,
      "outputs": [
        {
          "output_type": "execute_result",
          "data": {
            "text/plain": [
              "array([ 33342,  52132,  77144,  88668, 114341, 119622, 142652, 158890,\n",
              "       161170, 164239, 168784, 219253, 232196, 275022, 298212, 375956,\n",
              "       385199, 392194, 437021, 437167, 451502, 519265, 533188, 569669,\n",
              "       577342, 580189, 605425, 624431, 628761, 653525, 689306, 691542,\n",
              "       705508, 723727, 729783, 745631, 766997, 780894, 795393, 843536,\n",
              "       850933, 856114, 861446, 915122, 935153, 968510])"
            ]
          },
          "metadata": {
            "tags": []
          },
          "execution_count": 57
        }
      ]
    },
    {
      "cell_type": "code",
      "metadata": {
        "id": "RQ6Rd3BSvgv2"
      },
      "source": [
        "# create an array so that we can go backwards from numeric token IDs to strings\n",
        "\n",
        "word_lookup = np.empty(tokenizer.vocab_size, dtype=\"O\")\n",
        "\n",
        "for word, index in tokenizer.vocab.items():\n",
        "  word_lookup[index] = word"
      ],
      "execution_count": null,
      "outputs": []
    },
    {
      "cell_type": "code",
      "metadata": {
        "colab": {
          "base_uri": "https://localhost:8080/"
        },
        "id": "5s9RNay4vk99",
        "outputId": "679558e9-f1fb-47ff-f5c1-8a8a9c5fd2cc"
      },
      "source": [
        "tokenizer(\"bank\")"
      ],
      "execution_count": null,
      "outputs": [
        {
          "output_type": "execute_result",
          "data": {
            "text/plain": [
              "{'input_ids': [101, 2924, 102], 'attention_mask': [1, 1, 1]}"
            ]
          },
          "metadata": {
            "tags": []
          },
          "execution_count": 29
        }
      ]
    },
    {
      "cell_type": "code",
      "metadata": {
        "colab": {
          "base_uri": "https://localhost:8080/"
        },
        "id": "9xNv0---vq9q",
        "outputId": "a120b9fb-95f5-4fc0-d7f0-0d630c685bbd"
      },
      "source": [
        "word_lookup[[101, 2924, 102]]"
      ],
      "execution_count": null,
      "outputs": [
        {
          "output_type": "execute_result",
          "data": {
            "text/plain": [
              "array(['[CLS]', 'bank', '[SEP]'], dtype=object)"
            ]
          },
          "metadata": {
            "tags": []
          },
          "execution_count": 30
        }
      ]
    },
    {
      "cell_type": "markdown",
      "metadata": {
        "id": "_9ssdFSBANkN"
      },
      "source": [
        "To help distinguish between the word positions for **bank** above, let's make a function `get_context()` that gets a \"keyword in context\" view for a given word position. This function will return 10 words on either side of the search keyword. Wordpieces in the context view will be slightly modified for readable, replacing `##` with `-`."
      ]
    },
    {
      "cell_type": "code",
      "metadata": {
        "id": "TKCOu_7b44zu"
      },
      "source": [
        "def get_context(keyword_token_id, n=10):\n",
        "\n",
        "  # The token where we will start the context view\n",
        "  start_pos = max(0, keyword_token_id - n)\n",
        "  # The token where we will end the context view\n",
        "  end_pos = min(keyword_token_id + n + 1, len(all_token_ids))\n",
        "\n",
        "  # Make a list called tokens and use word_lookup to get the words for given token IDs from starting position up to the keyword\n",
        "  tokens = [word_lookup[word] for word in all_token_ids[start_pos:keyword_token_id] ]\n",
        "\n",
        "  # Append to the list tokens with the search keyword surrounded by **asterisks**\n",
        "  tokens.append(\"**\" + word_lookup[all_token_ids[keyword_token_id]] + \"**\")\n",
        "\n",
        "  # Extend the list tokens and use word_lookup to get the words for given token IDs from the keyword to the end position\n",
        "  tokens.extend([word_lookup[word] for word in all_token_ids[keyword_token_id+1:end_pos] ])\n",
        "  \n",
        "  # Make wordpieces slightly more readable by replacing the ## special character with a dash - or nothing, and fixing punctuation\n",
        "  context_wordpieces = \" \".join(tokens).replace(\" ##\", \"-\")\n",
        "  context_wordpieces = context_wordpieces.replace('##', '')\n",
        "  context_wordpieces = context_wordpieces.replace(' ,', ',')\n",
        "  context_wordpieces = context_wordpieces.replace(' .', '.')\n",
        "\n",
        "\n",
        "  return context_wordpieces"
      ],
      "execution_count": null,
      "outputs": []
    },
    {
      "cell_type": "markdown",
      "metadata": {
        "id": "UR09WX7AeRWs"
      },
      "source": [
        "We're also going to make a nearly identical function that returns a clean version of the context view, replacing the `##` special token with nothing."
      ]
    },
    {
      "cell_type": "code",
      "metadata": {
        "id": "5lHshYA2-zxY"
      },
      "source": [
        "def get_context_clean(keyword_token_id, n=10):\n",
        "\n",
        "  # The token where we will start the context view\n",
        "  start_pos = max(0, keyword_token_id - n)\n",
        "  # The token where we will end the context view\n",
        "  end_pos = min(keyword_token_id + n + 1, len(all_token_ids))\n",
        "\n",
        "  # Make a list called tokens and use word_lookup to get the words for given token IDs from starting position up to the keyword\n",
        "  tokens = [word_lookup[word] for word in all_token_ids[start_pos:keyword_token_id] ]\n",
        "\n",
        "  # Append to the list tokens with the search keyword surrounded by **asterisks**\n",
        "  tokens.append(\"**\" + word_lookup[all_token_ids[keyword_token_id]] + \"**\")\n",
        "\n",
        "  # Extend the list tokens and use word_lookup to get the words for given token IDs from the keyword to the end position\n",
        "  tokens.extend([word_lookup[word] for word in all_token_ids[keyword_token_id+1:end_pos] ])\n",
        "  \n",
        "  # Make wordpieces slightly more readable by replacing the ## special character with a dash - or nothing, and fixing punctuation\n",
        "  context_wordpieces = \" \".join(tokens).replace(\" ##\", \"\")\n",
        "  context_wordpieces = context_wordpieces.replace('##', '')\n",
        "  context_wordpieces = context_wordpieces.replace(' ,', ',')\n",
        "  context_wordpieces = context_wordpieces.replace(' .', '.')\n",
        "\n",
        "\n",
        "  return context_wordpieces"
      ],
      "execution_count": null,
      "outputs": []
    },
    {
      "cell_type": "markdown",
      "metadata": {
        "id": "0-SQVh1zyblT"
      },
      "source": [
        "To visualize the search keyword more easily, we're going to import a couple of Python modules that will allow us to output text with bolded words and other styling. Here we will make a function `print_md()` that will allow us to print with Markdown styling."
      ]
    },
    {
      "cell_type": "code",
      "metadata": {
        "id": "SPIho4qIGGqp"
      },
      "source": [
        "from IPython.display import Markdown, display\n",
        "\n",
        "def print_md(string):\n",
        "    display(Markdown(string))"
      ],
      "execution_count": null,
      "outputs": []
    },
    {
      "cell_type": "code",
      "metadata": {
        "colab": {
          "base_uri": "https://localhost:8080/",
          "height": 1000
        },
        "id": "fYGPIQhUy3Kl",
        "outputId": "efefed69-cb64-407e-9479-5b48b64715bd"
      },
      "source": [
        "for position in word_positions:\n",
        "\n",
        "  print_md(f\"<br> {position}:  {get_context(position)} <br>\")"
      ],
      "execution_count": null,
      "outputs": [
        {
          "output_type": "display_data",
          "data": {
            "text/markdown": "<br> 33342:  eli-sion forever eli-ding. today is a fog **bank** in which i am hiding. love is a burn <br>",
            "text/plain": [
              "<IPython.core.display.Markdown object>"
            ]
          },
          "metadata": {
            "tags": []
          }
        },
        {
          "output_type": "display_data",
          "data": {
            "text/markdown": "<br> 52132:  surface, anti - tank missiles swarm-ed through numbered **bank** accounts like o-vid ’ s see-thing knotted seed <br>",
            "text/plain": [
              "<IPython.core.display.Markdown object>"
            ]
          },
          "metadata": {
            "tags": []
          }
        },
        {
          "output_type": "display_data",
          "data": {
            "text/markdown": "<br> 77144:  thee. dad dead, mom — back in the **bank**, teller-ing — started dressing in cute skirts and <br>",
            "text/plain": [
              "<IPython.core.display.Markdown object>"
            ]
          },
          "metadata": {
            "tags": []
          }
        },
        {
          "output_type": "display_data",
          "data": {
            "text/markdown": "<br> 88668:  the road. kneeling i plunge the spoon into the **bank** : chicken bro-th & amp ; rice. rain <br>",
            "text/plain": [
              "<IPython.core.display.Markdown object>"
            ]
          },
          "metadata": {
            "tags": []
          }
        },
        {
          "output_type": "display_data",
          "data": {
            "text/markdown": "<br> 114341:  rain ! a ya-wn-ing soldier knelt against the **bank**, staring across the morning b-lea-r with fog <br>",
            "text/plain": [
              "<IPython.core.display.Markdown object>"
            ]
          },
          "metadata": {
            "tags": []
          }
        },
        {
          "output_type": "display_data",
          "data": {
            "text/markdown": "<br> 119622:  the blurred reflections of the willow-s on the opposite **bank** received it. welcome, flowers. write your name <br>",
            "text/plain": [
              "<IPython.core.display.Markdown object>"
            ]
          },
          "metadata": {
            "tags": []
          }
        },
        {
          "output_type": "display_data",
          "data": {
            "text/markdown": "<br> 142652:  of the weed, time of bram-ble along the **bank** of a canal muddy with old newspaper close - held <br>",
            "text/plain": [
              "<IPython.core.display.Markdown object>"
            ]
          },
          "metadata": {
            "tags": []
          }
        },
        {
          "output_type": "display_data",
          "data": {
            "text/markdown": "<br> 158890:  a straight - backed chair at a desk and his **bank** account is empty and he wishes for death one lies <br>",
            "text/plain": [
              "<IPython.core.display.Markdown object>"
            ]
          },
          "metadata": {
            "tags": []
          }
        },
        {
          "output_type": "display_data",
          "data": {
            "text/markdown": "<br> 161170:  read. read us again. but for a low **bank** of cloud, clear morning, empty sky. the <br>",
            "text/plain": [
              "<IPython.core.display.Markdown object>"
            ]
          },
          "metadata": {
            "tags": []
          }
        },
        {
          "output_type": "display_data",
          "data": {
            "text/markdown": "<br> 164239:  t take. it is not like going to the **bank**. there are no hard candi-es in a basket <br>",
            "text/plain": [
              "<IPython.core.display.Markdown object>"
            ]
          },
          "metadata": {
            "tags": []
          }
        },
        {
          "output_type": "display_data",
          "data": {
            "text/markdown": "<br> 168784:  1 water roared everywhere around us, yet from the **bank** all we could see of it were quick sp-ume <br>",
            "text/plain": [
              "<IPython.core.display.Markdown object>"
            ]
          },
          "metadata": {
            "tags": []
          }
        },
        {
          "output_type": "display_data",
          "data": {
            "text/markdown": "<br> 219253:  off root cl-ump and cave-d - in grassy **bank**. last year ’ s downed trees, slash piles <br>",
            "text/plain": [
              "<IPython.core.display.Markdown object>"
            ]
          },
          "metadata": {
            "tags": []
          }
        },
        {
          "output_type": "display_data",
          "data": {
            "text/markdown": "<br> 232196:  to be alone. beneath a dove and rainbow some **bank** their fire, wrap their er-ogen-ous zones in <br>",
            "text/plain": [
              "<IPython.core.display.Markdown object>"
            ]
          },
          "metadata": {
            "tags": []
          }
        },
        {
          "output_type": "display_data",
          "data": {
            "text/markdown": "<br> 275022:  have fallen down ) fell in my dream beside the **bank** of england ’ s wall to be, me with <br>",
            "text/plain": [
              "<IPython.core.display.Markdown object>"
            ]
          },
          "metadata": {
            "tags": []
          }
        },
        {
          "output_type": "display_data",
          "data": {
            "text/markdown": "<br> 298212:  gli-ness, even that which you ’ ve long **bank**-roll-ed. ladies, who of my lord would <br>",
            "text/plain": [
              "<IPython.core.display.Markdown object>"
            ]
          },
          "metadata": {
            "tags": []
          }
        },
        {
          "output_type": "display_data",
          "data": {
            "text/markdown": "<br> 375956:  . he wished his only daughter to work in the **bank** but he ’ d given her a source to sustain <br>",
            "text/plain": [
              "<IPython.core.display.Markdown object>"
            ]
          },
          "metadata": {
            "tags": []
          }
        },
        {
          "output_type": "display_data",
          "data": {
            "text/markdown": "<br> 385199:  tun-dra tires, lifted as if on wires, **bank**-ed over ice and rocked its wings to land. <br>",
            "text/plain": [
              "<IPython.core.display.Markdown object>"
            ]
          },
          "metadata": {
            "tags": []
          }
        },
        {
          "output_type": "display_data",
          "data": {
            "text/markdown": "<br> 392194:  ifer-s in their shove and jo-stle down a **bank**, drinking, mud ca-king lips. eyelids, <br>",
            "text/plain": [
              "<IPython.core.display.Markdown object>"
            ]
          },
          "metadata": {
            "tags": []
          }
        },
        {
          "output_type": "display_data",
          "data": {
            "text/markdown": "<br> 437021:  the otter, the beaver. i will climb the **bank** where the willow never dies. behind the fa-uve <br>",
            "text/plain": [
              "<IPython.core.display.Markdown object>"
            ]
          },
          "metadata": {
            "tags": []
          }
        },
        {
          "output_type": "display_data",
          "data": {
            "text/markdown": "<br> 437167:  cars is one giant cai-man bas-king on the **bank**. the jaguar ’ s all swimming stealth now — <br>",
            "text/plain": [
              "<IPython.core.display.Markdown object>"
            ]
          },
          "metadata": {
            "tags": []
          }
        },
        {
          "output_type": "display_data",
          "data": {
            "text/markdown": "<br> 451502:  ly sc-ut-tle back into mud holes drilling the **bank**. bending down to look, i could smell the <br>",
            "text/plain": [
              "<IPython.core.display.Markdown object>"
            ]
          },
          "metadata": {
            "tags": []
          }
        },
        {
          "output_type": "display_data",
          "data": {
            "text/markdown": "<br> 519265:  that he goes to. it could be at a **bank** or a library or turning a piece of flat land <br>",
            "text/plain": [
              "<IPython.core.display.Markdown object>"
            ]
          },
          "metadata": {
            "tags": []
          }
        },
        {
          "output_type": "display_data",
          "data": {
            "text/markdown": "<br> 533188:  stream grove of reed-s heron-s watching from the **bank** hen-ges whole fields honey-combe-d with so-uter <br>",
            "text/plain": [
              "<IPython.core.display.Markdown object>"
            ]
          },
          "metadata": {
            "tags": []
          }
        },
        {
          "output_type": "display_data",
          "data": {
            "text/markdown": "<br> 569669:  by battleships, flickering of a grey tail on the **bank**, motionless hull-s enormous under a dead grey sky <br>",
            "text/plain": [
              "<IPython.core.display.Markdown object>"
            ]
          },
          "metadata": {
            "tags": []
          }
        },
        {
          "output_type": "display_data",
          "data": {
            "text/markdown": "<br> 577342:  hid in holes at the br-im of the clay **bank** as the creek eased up pe-l-vic bones, <br>",
            "text/plain": [
              "<IPython.core.display.Markdown object>"
            ]
          },
          "metadata": {
            "tags": []
          }
        },
        {
          "output_type": "display_data",
          "data": {
            "text/markdown": "<br> 580189:  and feel, lick the ic-icle broken from the **bank** and still say nothing at all, only cry pretty <br>",
            "text/plain": [
              "<IPython.core.display.Markdown object>"
            ]
          },
          "metadata": {
            "tags": []
          }
        },
        {
          "output_type": "display_data",
          "data": {
            "text/markdown": "<br> 605425:  . it ’ s the fourth of july on the **bank** of hi-nk-son creek fifty years ago, the <br>",
            "text/plain": [
              "<IPython.core.display.Markdown object>"
            ]
          },
          "metadata": {
            "tags": []
          }
        },
        {
          "output_type": "display_data",
          "data": {
            "text/markdown": "<br> 624431:  of production. ( hence the failure of the medici **bank**. ) none of it ’ s there that you <br>",
            "text/plain": [
              "<IPython.core.display.Markdown object>"
            ]
          },
          "metadata": {
            "tags": []
          }
        },
        {
          "output_type": "display_data",
          "data": {
            "text/markdown": "<br> 628761:  a-y here it is, stuck close beside the **bank** beneath the bunch of grass that spin-dles rank its <br>",
            "text/plain": [
              "<IPython.core.display.Markdown object>"
            ]
          },
          "metadata": {
            "tags": []
          }
        },
        {
          "output_type": "display_data",
          "data": {
            "text/markdown": "<br> 653525:  into dash-es that spread without prints onto the screaming **bank**. “ now, tell me one difference, ” <br>",
            "text/plain": [
              "<IPython.core.display.Markdown object>"
            ]
          },
          "metadata": {
            "tags": []
          }
        },
        {
          "output_type": "display_data",
          "data": {
            "text/markdown": "<br> 689306:  though. no watch, no sleeping bag, no **bank**-book. the apartment looks the way it feels to <br>",
            "text/plain": [
              "<IPython.core.display.Markdown object>"
            ]
          },
          "metadata": {
            "tags": []
          }
        },
        {
          "output_type": "display_data",
          "data": {
            "text/markdown": "<br> 691542:  the smallest branch. my ab-ode is at the **bank** of a river, a river that comes out of <br>",
            "text/plain": [
              "<IPython.core.display.Markdown object>"
            ]
          },
          "metadata": {
            "tags": []
          }
        },
        {
          "output_type": "display_data",
          "data": {
            "text/markdown": "<br> 705508:  a co-uga-r to come by. i always **bank** on something parc-hed and am-bling to make my <br>",
            "text/plain": [
              "<IPython.core.display.Markdown object>"
            ]
          },
          "metadata": {
            "tags": []
          }
        },
        {
          "output_type": "display_data",
          "data": {
            "text/markdown": "<br> 723727:  from cubic content realms of atmosphere at play beyond the **bank** and sho-al of time. then resonance begins, <br>",
            "text/plain": [
              "<IPython.core.display.Markdown object>"
            ]
          },
          "metadata": {
            "tags": []
          }
        },
        {
          "output_type": "display_data",
          "data": {
            "text/markdown": "<br> 729783:  red paint on their shaft, or the iron turkey **bank** and the porcelain coffee cup that disappeared a while back <br>",
            "text/plain": [
              "<IPython.core.display.Markdown object>"
            ]
          },
          "metadata": {
            "tags": []
          }
        },
        {
          "output_type": "display_data",
          "data": {
            "text/markdown": "<br> 745631:  going steady on the will-ame-tte. along the **bank**, i lift my pace from devil - may - <br>",
            "text/plain": [
              "<IPython.core.display.Markdown object>"
            ]
          },
          "metadata": {
            "tags": []
          }
        },
        {
          "output_type": "display_data",
          "data": {
            "text/markdown": "<br> 766997:  . i remember a gang of friends racing a fog **bank** ’ s onslaught along the beach. seal - slick <br>",
            "text/plain": [
              "<IPython.core.display.Markdown object>"
            ]
          },
          "metadata": {
            "tags": []
          }
        },
        {
          "output_type": "display_data",
          "data": {
            "text/markdown": "<br> 780894:  chain, imp-ass-ive, stepping to the farther **bank** — continuing their march, as if by word, <br>",
            "text/plain": [
              "<IPython.core.display.Markdown object>"
            ]
          },
          "metadata": {
            "tags": []
          }
        },
        {
          "output_type": "display_data",
          "data": {
            "text/markdown": "<br> 795393:  worst one of my life, the woman at the **bank** tells me. though i ’ d like to be <br>",
            "text/plain": [
              "<IPython.core.display.Markdown object>"
            ]
          },
          "metadata": {
            "tags": []
          }
        },
        {
          "output_type": "display_data",
          "data": {
            "text/markdown": "<br> 843536:  song, the heron ’ s great rise from the **bank**. last a carp leaps, voices and a lantern <br>",
            "text/plain": [
              "<IPython.core.display.Markdown object>"
            ]
          },
          "metadata": {
            "tags": []
          }
        },
        {
          "output_type": "display_data",
          "data": {
            "text/markdown": "<br> 850933:  the burn comes down, and roar-s fra-e **bank** to bra-e ; and bird and beast in covert <br>",
            "text/plain": [
              "<IPython.core.display.Markdown object>"
            ]
          },
          "metadata": {
            "tags": []
          }
        },
        {
          "output_type": "display_data",
          "data": {
            "text/markdown": "<br> 856114:  border a man jo-gs. the river ’ s **bank** green, small trees bob in the wind like tr <br>",
            "text/plain": [
              "<IPython.core.display.Markdown object>"
            ]
          },
          "metadata": {
            "tags": []
          }
        },
        {
          "output_type": "display_data",
          "data": {
            "text/markdown": "<br> 861446:  off being young until you retire, and however you **bank** your screw, the money you save won ’ t <br>",
            "text/plain": [
              "<IPython.core.display.Markdown object>"
            ]
          },
          "metadata": {
            "tags": []
          }
        },
        {
          "output_type": "display_data",
          "data": {
            "text/markdown": "<br> 915122:  ugh where i cl-ing. a range of clouds **bank**-ed up behind the peak of that ap-oc-ry <br>",
            "text/plain": [
              "<IPython.core.display.Markdown object>"
            ]
          },
          "metadata": {
            "tags": []
          }
        },
        {
          "output_type": "display_data",
          "data": {
            "text/markdown": "<br> 935153:  , one ear tuned to the creek ’ s far **bank**, one dish-ed towards him. her un-star <br>",
            "text/plain": [
              "<IPython.core.display.Markdown object>"
            ]
          },
          "metadata": {
            "tags": []
          }
        },
        {
          "output_type": "display_data",
          "data": {
            "text/markdown": "<br> 968510:  words almost our own as we come sliding down the **bank**. last night, we covered the gardens in plastic <br>",
            "text/plain": [
              "<IPython.core.display.Markdown object>"
            ]
          },
          "metadata": {
            "tags": []
          }
        }
      ]
    },
    {
      "cell_type": "markdown",
      "metadata": {
        "id": "FHpPAIpHelDv"
      },
      "source": [
        "Here we make a list of all the context views for our keyword."
      ]
    },
    {
      "cell_type": "code",
      "metadata": {
        "id": "jBKdEKzO3ndD"
      },
      "source": [
        "keyword_contexts = []\n",
        "\n",
        "for position in word_positions:\n",
        "\n",
        "  keyword_contexts.append(get_context_clean(position))"
      ],
      "execution_count": null,
      "outputs": []
    },
    {
      "cell_type": "markdown",
      "metadata": {
        "id": "FOW3UJCU941G"
      },
      "source": [
        "### **Plotting with SVD**"
      ]
    },
    {
      "cell_type": "markdown",
      "metadata": {
        "id": "Xggu6BRkAgGu"
      },
      "source": [
        "From here we can use a [Singular Value Decomposition](https://numpy.org/doc/stable/reference/generated/numpy.linalg.svd.html) to project these 768-dimensional vectors to the two axes of most variation."
      ]
    },
    {
      "cell_type": "code",
      "metadata": {
        "id": "j9faTcSz3uMv"
      },
      "source": [
        "U, S, Vt = np.linalg.svd(all_token_vectors[word_positions,:])"
      ],
      "execution_count": null,
      "outputs": []
    },
    {
      "cell_type": "code",
      "metadata": {
        "colab": {
          "base_uri": "https://localhost:8080/"
        },
        "id": "dVUg_bcF4e3d",
        "outputId": "32ff253e-6ddf-4a8b-fe9d-6bd72905b7f0"
      },
      "source": [
        "all_token_vectors[word_positions,:].shape"
      ],
      "execution_count": null,
      "outputs": [
        {
          "output_type": "execute_result",
          "data": {
            "text/plain": [
              "(46, 768)"
            ]
          },
          "metadata": {
            "tags": []
          },
          "execution_count": 37
        }
      ]
    },
    {
      "cell_type": "markdown",
      "metadata": {
        "id": "nPWjXDxpevTe"
      },
      "source": [
        "For convenience, we put them into a Pandas DataFrame."
      ]
    },
    {
      "cell_type": "code",
      "metadata": {
        "colab": {
          "base_uri": "https://localhost:8080/",
          "height": 198
        },
        "id": "XUxuru27DrMm",
        "outputId": "46c0ff57-a6ca-49a5-85f6-1450825946fb"
      },
      "source": [
        "df = pd.DataFrame({\"x\": U[:,0], \"y\": U[:,1], \"context\": keyword_contexts})\n",
        "df.head()"
      ],
      "execution_count": null,
      "outputs": [
        {
          "output_type": "execute_result",
          "data": {
            "text/html": [
              "<div>\n",
              "<style scoped>\n",
              "    .dataframe tbody tr th:only-of-type {\n",
              "        vertical-align: middle;\n",
              "    }\n",
              "\n",
              "    .dataframe tbody tr th {\n",
              "        vertical-align: top;\n",
              "    }\n",
              "\n",
              "    .dataframe thead th {\n",
              "        text-align: right;\n",
              "    }\n",
              "</style>\n",
              "<table border=\"1\" class=\"dataframe\">\n",
              "  <thead>\n",
              "    <tr style=\"text-align: right;\">\n",
              "      <th></th>\n",
              "      <th>x</th>\n",
              "      <th>y</th>\n",
              "      <th>context</th>\n",
              "    </tr>\n",
              "  </thead>\n",
              "  <tbody>\n",
              "    <tr>\n",
              "      <th>0</th>\n",
              "      <td>-0.146669</td>\n",
              "      <td>0.031306</td>\n",
              "      <td>elision forever eliding. today is a fog **bank...</td>\n",
              "    </tr>\n",
              "    <tr>\n",
              "      <th>1</th>\n",
              "      <td>-0.142731</td>\n",
              "      <td>0.218669</td>\n",
              "      <td>surface, anti - tank missiles swarmed through ...</td>\n",
              "    </tr>\n",
              "    <tr>\n",
              "      <th>2</th>\n",
              "      <td>-0.147445</td>\n",
              "      <td>0.196902</td>\n",
              "      <td>thee. dad dead, mom — back in the **bank**, te...</td>\n",
              "    </tr>\n",
              "    <tr>\n",
              "      <th>3</th>\n",
              "      <td>-0.146940</td>\n",
              "      <td>-0.018884</td>\n",
              "      <td>the road. kneeling i plunge the spoon into the...</td>\n",
              "    </tr>\n",
              "    <tr>\n",
              "      <th>4</th>\n",
              "      <td>-0.154485</td>\n",
              "      <td>-0.094999</td>\n",
              "      <td>rain ! a yawning soldier knelt against the **b...</td>\n",
              "    </tr>\n",
              "  </tbody>\n",
              "</table>\n",
              "</div>"
            ],
            "text/plain": [
              "          x         y                                            context\n",
              "0 -0.146669  0.031306  elision forever eliding. today is a fog **bank...\n",
              "1 -0.142731  0.218669  surface, anti - tank missiles swarmed through ...\n",
              "2 -0.147445  0.196902  thee. dad dead, mom — back in the **bank**, te...\n",
              "3 -0.146940 -0.018884  the road. kneeling i plunge the spoon into the...\n",
              "4 -0.154485 -0.094999  rain ! a yawning soldier knelt against the **b..."
            ]
          },
          "metadata": {
            "tags": []
          },
          "execution_count": 41
        }
      ]
    },
    {
      "cell_type": "markdown",
      "metadata": {
        "id": "g5PQYxa_ezps"
      },
      "source": [
        "Then we will plot them from this DataFrame with the Python data viz library [Altair](https://altair-viz.github.io/gallery/scatter_tooltips.html)."
      ]
    },
    {
      "cell_type": "code",
      "metadata": {
        "id": "uwyogpt7zkOk"
      },
      "source": [
        "import altair as alt"
      ],
      "execution_count": null,
      "outputs": []
    },
    {
      "cell_type": "code",
      "metadata": {
        "colab": {
          "base_uri": "https://localhost:8080/",
          "height": 568
        },
        "id": "5hp5pewCERrJ",
        "outputId": "0a0381af-3df2-464c-a914-a00f5a8f7c53"
      },
      "source": [
        "alt.Chart(df).mark_circle(size=200).encode(\n",
        "    x=\"x\", y=\"y\",\n",
        "    tooltip=['context']\n",
        "    ).interactive().properties(\n",
        "    width=500,\n",
        "    height=500\n",
        ")"
      ],
      "execution_count": null,
      "outputs": [
        {
          "output_type": "execute_result",
          "data": {
            "text/plain": [
              "alt.Chart(...)"
            ],
            "text/html": [
              "\n",
              "<div id=\"altair-viz-6b169e18a34240c88996acc9ee5e399a\"></div>\n",
              "<script type=\"text/javascript\">\n",
              "  (function(spec, embedOpt){\n",
              "    let outputDiv = document.currentScript.previousElementSibling;\n",
              "    if (outputDiv.id !== \"altair-viz-6b169e18a34240c88996acc9ee5e399a\") {\n",
              "      outputDiv = document.getElementById(\"altair-viz-6b169e18a34240c88996acc9ee5e399a\");\n",
              "    }\n",
              "    const paths = {\n",
              "      \"vega\": \"https://cdn.jsdelivr.net/npm//vega@5?noext\",\n",
              "      \"vega-lib\": \"https://cdn.jsdelivr.net/npm//vega-lib?noext\",\n",
              "      \"vega-lite\": \"https://cdn.jsdelivr.net/npm//vega-lite@4.8.1?noext\",\n",
              "      \"vega-embed\": \"https://cdn.jsdelivr.net/npm//vega-embed@6?noext\",\n",
              "    };\n",
              "\n",
              "    function loadScript(lib) {\n",
              "      return new Promise(function(resolve, reject) {\n",
              "        var s = document.createElement('script');\n",
              "        s.src = paths[lib];\n",
              "        s.async = true;\n",
              "        s.onload = () => resolve(paths[lib]);\n",
              "        s.onerror = () => reject(`Error loading script: ${paths[lib]}`);\n",
              "        document.getElementsByTagName(\"head\")[0].appendChild(s);\n",
              "      });\n",
              "    }\n",
              "\n",
              "    function showError(err) {\n",
              "      outputDiv.innerHTML = `<div class=\"error\" style=\"color:red;\">${err}</div>`;\n",
              "      throw err;\n",
              "    }\n",
              "\n",
              "    function displayChart(vegaEmbed) {\n",
              "      vegaEmbed(outputDiv, spec, embedOpt)\n",
              "        .catch(err => showError(`Javascript Error: ${err.message}<br>This usually means there's a typo in your chart specification. See the javascript console for the full traceback.`));\n",
              "    }\n",
              "\n",
              "    if(typeof define === \"function\" && define.amd) {\n",
              "      requirejs.config({paths});\n",
              "      require([\"vega-embed\"], displayChart, err => showError(`Error loading script: ${err.message}`));\n",
              "    } else if (typeof vegaEmbed === \"function\") {\n",
              "      displayChart(vegaEmbed);\n",
              "    } else {\n",
              "      loadScript(\"vega\")\n",
              "        .then(() => loadScript(\"vega-lite\"))\n",
              "        .then(() => loadScript(\"vega-embed\"))\n",
              "        .catch(showError)\n",
              "        .then(() => displayChart(vegaEmbed));\n",
              "    }\n",
              "  })({\"config\": {\"view\": {\"continuousWidth\": 400, \"continuousHeight\": 300}}, \"data\": {\"name\": \"data-5d9e616657a32f532832e5ec85372225\"}, \"mark\": {\"type\": \"circle\", \"size\": 200}, \"encoding\": {\"tooltip\": [{\"type\": \"nominal\", \"field\": \"context\"}], \"x\": {\"type\": \"quantitative\", \"field\": \"x\"}, \"y\": {\"type\": \"quantitative\", \"field\": \"y\"}}, \"height\": 500, \"selection\": {\"selector001\": {\"type\": \"interval\", \"bind\": \"scales\", \"encodings\": [\"x\", \"y\"]}}, \"width\": 500, \"$schema\": \"https://vega.github.io/schema/vega-lite/v4.8.1.json\", \"datasets\": {\"data-5d9e616657a32f532832e5ec85372225\": [{\"x\": -0.14666929841041565, \"y\": 0.03130584955215454, \"context\": \"elision forever eliding. today is a fog **bank** in which i am hiding. love is a burn\"}, {\"x\": -0.14273114502429962, \"y\": 0.21866890788078308, \"context\": \"surface, anti - tank missiles swarmed through numbered **bank** accounts like ovid \\u2019 s seething knotted seed\"}, {\"x\": -0.1474454700946808, \"y\": 0.1969020962715149, \"context\": \"thee. dad dead, mom \\u2014 back in the **bank**, tellering \\u2014 started dressing in cute skirts and\"}, {\"x\": -0.1469399333000183, \"y\": -0.018884360790252686, \"context\": \"the road. kneeling i plunge the spoon into the **bank** : chicken broth & amp ; rice. rain\"}, {\"x\": -0.15448495745658875, \"y\": -0.09499897807836533, \"context\": \"rain ! a yawning soldier knelt against the **bank**, staring across the morning blear with fog\"}, {\"x\": -0.1500474363565445, \"y\": -0.20203010737895966, \"context\": \"the blurred reflections of the willows on the opposite **bank** received it. welcome, flowers. write your name\"}, {\"x\": -0.15495501458644867, \"y\": -0.14031843841075897, \"context\": \"of the weed, time of bramble along the **bank** of a canal muddy with old newspaper close - held\"}, {\"x\": -0.136752188205719, \"y\": 0.2658020257949829, \"context\": \"a straight - backed chair at a desk and his **bank** account is empty and he wishes for death one lies\"}, {\"x\": -0.14574913680553436, \"y\": -0.020999688655138016, \"context\": \"read. read us again. but for a low **bank** of cloud, clear morning, empty sky. the\"}, {\"x\": -0.14351336658000946, \"y\": 0.25556761026382446, \"context\": \"t take. it is not like going to the **bank**. there are no hard candies in a basket\"}, {\"x\": -0.15618672966957092, \"y\": -0.09549819678068161, \"context\": \"1 water roared everywhere around us, yet from the **bank** all we could see of it were quick spume\"}, {\"x\": -0.1583288162946701, \"y\": -0.07284963876008987, \"context\": \"off root clump and caved - in grassy **bank**. last year \\u2019 s downed trees, slash piles\"}, {\"x\": -0.11892812699079514, \"y\": 0.11680327355861664, \"context\": \"to be alone. beneath a dove and rainbow some **bank** their fire, wrap their erogenous zones in\"}, {\"x\": -0.15715521574020386, \"y\": 0.04108260199427605, \"context\": \"have fallen down ) fell in my dream beside the **bank** of england \\u2019 s wall to be, me with\"}, {\"x\": -0.12845492362976074, \"y\": 0.2294527292251587, \"context\": \"gliness, even that which you \\u2019 ve long **bank**rolled. ladies, who of my lord would\"}, {\"x\": -0.15279671549797058, \"y\": 0.10132017731666565, \"context\": \". he wished his only daughter to work in the **bank** but he \\u2019 d given her a source to sustain\"}, {\"x\": -0.1198112964630127, \"y\": 0.06507784873247147, \"context\": \"tundra tires, lifted as if on wires, **bank**ed over ice and rocked its wings to land.\"}, {\"x\": -0.16121961176395416, \"y\": -0.06982722133398056, \"context\": \"ifers in their shove and jostle down a **bank**, drinking, mud caking lips. eyelids,\"}, {\"x\": -0.1529822051525116, \"y\": -0.12548191845417023, \"context\": \"the otter, the beaver. i will climb the **bank** where the willow never dies. behind the fauve\"}, {\"x\": -0.15536783635616302, \"y\": -0.11994024366140366, \"context\": \"cars is one giant caiman basking on the **bank**. the jaguar \\u2019 s all swimming stealth now \\u2014\"}, {\"x\": -0.15618552267551422, \"y\": -0.09730799496173859, \"context\": \"ly scuttle back into mud holes drilling the **bank**. bending down to look, i could smell the\"}, {\"x\": -0.13957346975803375, \"y\": 0.1788000762462616, \"context\": \"that he goes to. it could be at a **bank** or a library or turning a piece of flat land\"}, {\"x\": -0.15633122622966766, \"y\": -0.07492577284574509, \"context\": \"stream grove of reeds herons watching from the **bank** henges whole fields honeycombed with souter\"}, {\"x\": -0.1597411334514618, \"y\": -0.07193407416343689, \"context\": \"by battleships, flickering of a grey tail on the **bank**, motionless hulls enormous under a dead grey sky\"}, {\"x\": -0.15654753148555756, \"y\": -0.12787623703479767, \"context\": \"hid in holes at the brim of the clay **bank** as the creek eased up pelvic bones,\"}, {\"x\": -0.15186063945293427, \"y\": -0.01606331765651703, \"context\": \"and feel, lick the icicle broken from the **bank** and still say nothing at all, only cry pretty\"}, {\"x\": -0.15085849165916443, \"y\": -0.1426515132188797, \"context\": \". it \\u2019 s the fourth of july on the **bank** of hinkson creek fifty years ago, the\"}, {\"x\": -0.13516539335250854, \"y\": 0.22749020159244537, \"context\": \"of production. ( hence the failure of the medici **bank**. ) none of it \\u2019 s there that you\"}, {\"x\": -0.15943612158298492, \"y\": -0.143401101231575, \"context\": \"ay here it is, stuck close beside the **bank** beneath the bunch of grass that spindles rank its\"}, {\"x\": -0.1555730551481247, \"y\": -0.1319708228111267, \"context\": \"into dashes that spread without prints onto the screaming **bank**. \\u201c now, tell me one difference, \\u201d\"}, {\"x\": -0.12933602929115295, \"y\": 0.2790268063545227, \"context\": \"though. no watch, no sleeping bag, no **bank**book. the apartment looks the way it feels to\"}, {\"x\": -0.15022341907024384, \"y\": -0.14708207547664642, \"context\": \"the smallest branch. my abode is at the **bank** of a river, a river that comes out of\"}, {\"x\": -0.11533400416374207, \"y\": 0.17259573936462402, \"context\": \"a cougar to come by. i always **bank** on something parched and ambling to make my\"}, {\"x\": -0.14621315896511078, \"y\": 0.06908350437879562, \"context\": \"from cubic content realms of atmosphere at play beyond the **bank** and shoal of time. then resonance begins,\"}, {\"x\": -0.14361223578453064, \"y\": 0.18004216253757477, \"context\": \"red paint on their shaft, or the iron turkey **bank** and the porcelain coffee cup that disappeared a while back\"}, {\"x\": -0.1563010811805725, \"y\": -0.14099596440792084, \"context\": \"going steady on the willamette. along the **bank**, i lift my pace from devil - may -\"}, {\"x\": -0.14480769634246826, \"y\": 0.03668937087059021, \"context\": \". i remember a gang of friends racing a fog **bank** \\u2019 s onslaught along the beach. seal - slick\"}, {\"x\": -0.1533578336238861, \"y\": -0.20125509798526764, \"context\": \"chain, impassive, stepping to the farther **bank** \\u2014 continuing their march, as if by word,\"}, {\"x\": -0.14287744462490082, \"y\": 0.19902630150318146, \"context\": \"worst one of my life, the woman at the **bank** tells me. though i \\u2019 d like to be\"}, {\"x\": -0.15967139601707458, \"y\": -0.09487348794937134, \"context\": \"song, the heron \\u2019 s great rise from the **bank**. last a carp leaps, voices and a lantern\"}, {\"x\": -0.14745566248893738, \"y\": 0.006712997332215309, \"context\": \"the burn comes down, and roars frae **bank** to brae ; and bird and beast in covert\"}, {\"x\": -0.15484409034252167, \"y\": -0.11217757314443588, \"context\": \"border a man jogs. the river \\u2019 s **bank** green, small trees bob in the wind like tr\"}, {\"x\": -0.12789799273014069, \"y\": 0.2419266700744629, \"context\": \"off being young until you retire, and however you **bank** your screw, the money you save won \\u2019 t\"}, {\"x\": -0.12814395129680634, \"y\": 0.02949116751551628, \"context\": \"ugh where i cling. a range of clouds **bank**ed up behind the peak of that apocry\"}, {\"x\": -0.15139712393283844, \"y\": -0.16963395476341248, \"context\": \", one ear tuned to the creek \\u2019 s far **bank**, one dished towards him. her unstar\"}, {\"x\": -0.15784700214862823, \"y\": -0.1330270916223526, \"context\": \"words almost our own as we come sliding down the **bank**. last night, we covered the gardens in plastic\"}]}}, {\"mode\": \"vega-lite\"});\n",
              "</script>"
            ]
          },
          "metadata": {
            "tags": []
          },
          "execution_count": 42
        }
      ]
    },
    {
      "cell_type": "markdown",
      "metadata": {
        "id": "vLSjJc8-IZJ_"
      },
      "source": [
        "### **Put it all together**"
      ]
    },
    {
      "cell_type": "code",
      "metadata": {
        "colab": {
          "base_uri": "https://localhost:8080/",
          "height": 568
        },
        "id": "rEz1t7FrIhwH",
        "outputId": "42778961-d181-4d98-fa6d-20a1ce44b9d5"
      },
      "source": [
        "search_keyword = 'bank'\n",
        "\n",
        "word_positions = np.where(all_token_ids == tokenizer.vocab[search_keyword])[0]\n",
        "\n",
        "# create an array so that we can go backwards from numeric token IDs to strings\n",
        "word_lookup = np.empty(tokenizer.vocab_size, dtype=\"O\")\n",
        "\n",
        "for word, index in tokenizer.vocab.items():\n",
        "  word_lookup[index] = word\n",
        "\n",
        "def get_context_clean(keyword_token_id, n=10):\n",
        "\n",
        "  # The token where we will start the context view\n",
        "  start_pos = max(0, keyword_token_id - n)\n",
        "  # The token where we will end the context view\n",
        "  end_pos = min(keyword_token_id + n + 1, len(all_token_ids))\n",
        "\n",
        "  # Make a list called tokens and use word_lookup to get the words for given token IDs from starting position up to the keyword\n",
        "  tokens = [word_lookup[word] for word in all_token_ids[start_pos:keyword_token_id] ]\n",
        "\n",
        "  # Append to the list tokens with the search keyword surrounded by **asterisks**\n",
        "  tokens.append(\"**\" + word_lookup[all_token_ids[keyword_token_id]] + \"**\")\n",
        "\n",
        "  # Extend the list tokens and use word_lookup to get the words for given token IDs from the keyword to the end position\n",
        "  tokens.extend([word_lookup[word] for word in all_token_ids[keyword_token_id+1:end_pos] ])\n",
        "  \n",
        "  # Make wordpieces slightly more readable by replacing the ## special character with a dash - or nothing, and fixing punctuation\n",
        "  context_wordpieces = \" \".join(tokens).replace(\" ##\", \"\")\n",
        "  context_wordpieces = context_wordpieces.replace('##', '')\n",
        "  context_wordpieces = context_wordpieces.replace(' ,', ',')\n",
        "  context_wordpieces = context_wordpieces.replace(' .', '.')\n",
        "\n",
        "\n",
        "  return context_wordpieces\n",
        "\n",
        "keyword_contexts = []\n",
        "\n",
        "for position in word_positions:\n",
        "\n",
        "  keyword_contexts.append(get_context_clean(position))\n",
        "  \n",
        "U, S, Vt = np.linalg.svd(all_token_vectors[word_positions,:])\n",
        "df = pd.DataFrame({\"x\": U[:,0], \"y\": U[:,1], \"context\": keyword_contexts})\n",
        "alt.Chart(df).mark_circle(size=200).encode(\n",
        "    x=\"x\", y=\"y\",\n",
        "    tooltip=['context']\n",
        "    ).interactive().properties(\n",
        "    width=500,\n",
        "    height=500\n",
        ")"
      ],
      "execution_count": null,
      "outputs": [
        {
          "output_type": "execute_result",
          "data": {
            "text/plain": [
              "alt.Chart(...)"
            ],
            "text/html": [
              "\n",
              "<div id=\"altair-viz-9a7b6807b906436eb62c063648ef5fce\"></div>\n",
              "<script type=\"text/javascript\">\n",
              "  (function(spec, embedOpt){\n",
              "    let outputDiv = document.currentScript.previousElementSibling;\n",
              "    if (outputDiv.id !== \"altair-viz-9a7b6807b906436eb62c063648ef5fce\") {\n",
              "      outputDiv = document.getElementById(\"altair-viz-9a7b6807b906436eb62c063648ef5fce\");\n",
              "    }\n",
              "    const paths = {\n",
              "      \"vega\": \"https://cdn.jsdelivr.net/npm//vega@5?noext\",\n",
              "      \"vega-lib\": \"https://cdn.jsdelivr.net/npm//vega-lib?noext\",\n",
              "      \"vega-lite\": \"https://cdn.jsdelivr.net/npm//vega-lite@4.8.1?noext\",\n",
              "      \"vega-embed\": \"https://cdn.jsdelivr.net/npm//vega-embed@6?noext\",\n",
              "    };\n",
              "\n",
              "    function loadScript(lib) {\n",
              "      return new Promise(function(resolve, reject) {\n",
              "        var s = document.createElement('script');\n",
              "        s.src = paths[lib];\n",
              "        s.async = true;\n",
              "        s.onload = () => resolve(paths[lib]);\n",
              "        s.onerror = () => reject(`Error loading script: ${paths[lib]}`);\n",
              "        document.getElementsByTagName(\"head\")[0].appendChild(s);\n",
              "      });\n",
              "    }\n",
              "\n",
              "    function showError(err) {\n",
              "      outputDiv.innerHTML = `<div class=\"error\" style=\"color:red;\">${err}</div>`;\n",
              "      throw err;\n",
              "    }\n",
              "\n",
              "    function displayChart(vegaEmbed) {\n",
              "      vegaEmbed(outputDiv, spec, embedOpt)\n",
              "        .catch(err => showError(`Javascript Error: ${err.message}<br>This usually means there's a typo in your chart specification. See the javascript console for the full traceback.`));\n",
              "    }\n",
              "\n",
              "    if(typeof define === \"function\" && define.amd) {\n",
              "      requirejs.config({paths});\n",
              "      require([\"vega-embed\"], displayChart, err => showError(`Error loading script: ${err.message}`));\n",
              "    } else if (typeof vegaEmbed === \"function\") {\n",
              "      displayChart(vegaEmbed);\n",
              "    } else {\n",
              "      loadScript(\"vega\")\n",
              "        .then(() => loadScript(\"vega-lite\"))\n",
              "        .then(() => loadScript(\"vega-embed\"))\n",
              "        .catch(showError)\n",
              "        .then(() => displayChart(vegaEmbed));\n",
              "    }\n",
              "  })({\"config\": {\"view\": {\"continuousWidth\": 400, \"continuousHeight\": 300}}, \"data\": {\"name\": \"data-5d9e616657a32f532832e5ec85372225\"}, \"mark\": {\"type\": \"circle\", \"size\": 200}, \"encoding\": {\"tooltip\": [{\"type\": \"nominal\", \"field\": \"context\"}], \"x\": {\"type\": \"quantitative\", \"field\": \"x\"}, \"y\": {\"type\": \"quantitative\", \"field\": \"y\"}}, \"height\": 500, \"selection\": {\"selector002\": {\"type\": \"interval\", \"bind\": \"scales\", \"encodings\": [\"x\", \"y\"]}}, \"width\": 500, \"$schema\": \"https://vega.github.io/schema/vega-lite/v4.8.1.json\", \"datasets\": {\"data-5d9e616657a32f532832e5ec85372225\": [{\"x\": -0.14666929841041565, \"y\": 0.03130584955215454, \"context\": \"elision forever eliding. today is a fog **bank** in which i am hiding. love is a burn\"}, {\"x\": -0.14273114502429962, \"y\": 0.21866890788078308, \"context\": \"surface, anti - tank missiles swarmed through numbered **bank** accounts like ovid \\u2019 s seething knotted seed\"}, {\"x\": -0.1474454700946808, \"y\": 0.1969020962715149, \"context\": \"thee. dad dead, mom \\u2014 back in the **bank**, tellering \\u2014 started dressing in cute skirts and\"}, {\"x\": -0.1469399333000183, \"y\": -0.018884360790252686, \"context\": \"the road. kneeling i plunge the spoon into the **bank** : chicken broth & amp ; rice. rain\"}, {\"x\": -0.15448495745658875, \"y\": -0.09499897807836533, \"context\": \"rain ! a yawning soldier knelt against the **bank**, staring across the morning blear with fog\"}, {\"x\": -0.1500474363565445, \"y\": -0.20203010737895966, \"context\": \"the blurred reflections of the willows on the opposite **bank** received it. welcome, flowers. write your name\"}, {\"x\": -0.15495501458644867, \"y\": -0.14031843841075897, \"context\": \"of the weed, time of bramble along the **bank** of a canal muddy with old newspaper close - held\"}, {\"x\": -0.136752188205719, \"y\": 0.2658020257949829, \"context\": \"a straight - backed chair at a desk and his **bank** account is empty and he wishes for death one lies\"}, {\"x\": -0.14574913680553436, \"y\": -0.020999688655138016, \"context\": \"read. read us again. but for a low **bank** of cloud, clear morning, empty sky. the\"}, {\"x\": -0.14351336658000946, \"y\": 0.25556761026382446, \"context\": \"t take. it is not like going to the **bank**. there are no hard candies in a basket\"}, {\"x\": -0.15618672966957092, \"y\": -0.09549819678068161, \"context\": \"1 water roared everywhere around us, yet from the **bank** all we could see of it were quick spume\"}, {\"x\": -0.1583288162946701, \"y\": -0.07284963876008987, \"context\": \"off root clump and caved - in grassy **bank**. last year \\u2019 s downed trees, slash piles\"}, {\"x\": -0.11892812699079514, \"y\": 0.11680327355861664, \"context\": \"to be alone. beneath a dove and rainbow some **bank** their fire, wrap their erogenous zones in\"}, {\"x\": -0.15715521574020386, \"y\": 0.04108260199427605, \"context\": \"have fallen down ) fell in my dream beside the **bank** of england \\u2019 s wall to be, me with\"}, {\"x\": -0.12845492362976074, \"y\": 0.2294527292251587, \"context\": \"gliness, even that which you \\u2019 ve long **bank**rolled. ladies, who of my lord would\"}, {\"x\": -0.15279671549797058, \"y\": 0.10132017731666565, \"context\": \". he wished his only daughter to work in the **bank** but he \\u2019 d given her a source to sustain\"}, {\"x\": -0.1198112964630127, \"y\": 0.06507784873247147, \"context\": \"tundra tires, lifted as if on wires, **bank**ed over ice and rocked its wings to land.\"}, {\"x\": -0.16121961176395416, \"y\": -0.06982722133398056, \"context\": \"ifers in their shove and jostle down a **bank**, drinking, mud caking lips. eyelids,\"}, {\"x\": -0.1529822051525116, \"y\": -0.12548191845417023, \"context\": \"the otter, the beaver. i will climb the **bank** where the willow never dies. behind the fauve\"}, {\"x\": -0.15536783635616302, \"y\": -0.11994024366140366, \"context\": \"cars is one giant caiman basking on the **bank**. the jaguar \\u2019 s all swimming stealth now \\u2014\"}, {\"x\": -0.15618552267551422, \"y\": -0.09730799496173859, \"context\": \"ly scuttle back into mud holes drilling the **bank**. bending down to look, i could smell the\"}, {\"x\": -0.13957346975803375, \"y\": 0.1788000762462616, \"context\": \"that he goes to. it could be at a **bank** or a library or turning a piece of flat land\"}, {\"x\": -0.15633122622966766, \"y\": -0.07492577284574509, \"context\": \"stream grove of reeds herons watching from the **bank** henges whole fields honeycombed with souter\"}, {\"x\": -0.1597411334514618, \"y\": -0.07193407416343689, \"context\": \"by battleships, flickering of a grey tail on the **bank**, motionless hulls enormous under a dead grey sky\"}, {\"x\": -0.15654753148555756, \"y\": -0.12787623703479767, \"context\": \"hid in holes at the brim of the clay **bank** as the creek eased up pelvic bones,\"}, {\"x\": -0.15186063945293427, \"y\": -0.01606331765651703, \"context\": \"and feel, lick the icicle broken from the **bank** and still say nothing at all, only cry pretty\"}, {\"x\": -0.15085849165916443, \"y\": -0.1426515132188797, \"context\": \". it \\u2019 s the fourth of july on the **bank** of hinkson creek fifty years ago, the\"}, {\"x\": -0.13516539335250854, \"y\": 0.22749020159244537, \"context\": \"of production. ( hence the failure of the medici **bank**. ) none of it \\u2019 s there that you\"}, {\"x\": -0.15943612158298492, \"y\": -0.143401101231575, \"context\": \"ay here it is, stuck close beside the **bank** beneath the bunch of grass that spindles rank its\"}, {\"x\": -0.1555730551481247, \"y\": -0.1319708228111267, \"context\": \"into dashes that spread without prints onto the screaming **bank**. \\u201c now, tell me one difference, \\u201d\"}, {\"x\": -0.12933602929115295, \"y\": 0.2790268063545227, \"context\": \"though. no watch, no sleeping bag, no **bank**book. the apartment looks the way it feels to\"}, {\"x\": -0.15022341907024384, \"y\": -0.14708207547664642, \"context\": \"the smallest branch. my abode is at the **bank** of a river, a river that comes out of\"}, {\"x\": -0.11533400416374207, \"y\": 0.17259573936462402, \"context\": \"a cougar to come by. i always **bank** on something parched and ambling to make my\"}, {\"x\": -0.14621315896511078, \"y\": 0.06908350437879562, \"context\": \"from cubic content realms of atmosphere at play beyond the **bank** and shoal of time. then resonance begins,\"}, {\"x\": -0.14361223578453064, \"y\": 0.18004216253757477, \"context\": \"red paint on their shaft, or the iron turkey **bank** and the porcelain coffee cup that disappeared a while back\"}, {\"x\": -0.1563010811805725, \"y\": -0.14099596440792084, \"context\": \"going steady on the willamette. along the **bank**, i lift my pace from devil - may -\"}, {\"x\": -0.14480769634246826, \"y\": 0.03668937087059021, \"context\": \". i remember a gang of friends racing a fog **bank** \\u2019 s onslaught along the beach. seal - slick\"}, {\"x\": -0.1533578336238861, \"y\": -0.20125509798526764, \"context\": \"chain, impassive, stepping to the farther **bank** \\u2014 continuing their march, as if by word,\"}, {\"x\": -0.14287744462490082, \"y\": 0.19902630150318146, \"context\": \"worst one of my life, the woman at the **bank** tells me. though i \\u2019 d like to be\"}, {\"x\": -0.15967139601707458, \"y\": -0.09487348794937134, \"context\": \"song, the heron \\u2019 s great rise from the **bank**. last a carp leaps, voices and a lantern\"}, {\"x\": -0.14745566248893738, \"y\": 0.006712997332215309, \"context\": \"the burn comes down, and roars frae **bank** to brae ; and bird and beast in covert\"}, {\"x\": -0.15484409034252167, \"y\": -0.11217757314443588, \"context\": \"border a man jogs. the river \\u2019 s **bank** green, small trees bob in the wind like tr\"}, {\"x\": -0.12789799273014069, \"y\": 0.2419266700744629, \"context\": \"off being young until you retire, and however you **bank** your screw, the money you save won \\u2019 t\"}, {\"x\": -0.12814395129680634, \"y\": 0.02949116751551628, \"context\": \"ugh where i cling. a range of clouds **bank**ed up behind the peak of that apocry\"}, {\"x\": -0.15139712393283844, \"y\": -0.16963395476341248, \"context\": \", one ear tuned to the creek \\u2019 s far **bank**, one dished towards him. her unstar\"}, {\"x\": -0.15784700214862823, \"y\": -0.1330270916223526, \"context\": \"words almost our own as we come sliding down the **bank**. last night, we covered the gardens in plastic\"}]}}, {\"mode\": \"vega-lite\"});\n",
              "</script>"
            ]
          },
          "metadata": {
            "tags": []
          },
          "execution_count": 43
        }
      ]
    },
    {
      "cell_type": "markdown",
      "metadata": {
        "id": "GANJh60gAv3r"
      },
      "source": [
        "It looks like there are two distinct clusters, well-separated on the $y$-axis."
      ]
    },
    {
      "cell_type": "code",
      "metadata": {
        "colab": {
          "base_uri": "https://localhost:8080/"
        },
        "id": "vEJEnxKp9vqs",
        "outputId": "089c5fdb-b9a8-4a79-d919-f8328ce8cbf3"
      },
      "source": [
        "positions_sorted_by_second_factor = np.argsort(U[:,1])\n",
        "for position in positions_sorted_by_second_factor:\n",
        "  print(U[position,1], get_context(word_positions[position], n=8))"
      ],
      "execution_count": null,
      "outputs": [
        {
          "output_type": "stream",
          "text": [
            "-0.2020301 reflections of the willow-s on the opposite **bank** received it. welcome, flowers. write\n",
            "-0.2012551 imp-ass-ive, stepping to the farther **bank** — continuing their march, as if by\n",
            "-0.16963395 ear tuned to the creek ’ s far **bank**, one dish-ed towards him. her\n",
            "-0.14708208 branch. my ab-ode is at the **bank** of a river, a river that comes\n",
            "-0.1434011 here it is, stuck close beside the **bank** beneath the bunch of grass that spin-dles\n",
            "-0.14265151 ’ s the fourth of july on the **bank** of hi-nk-son creek fifty years ago\n",
            "-0.14099596 on the will-ame-tte. along the **bank**, i lift my pace from devil -\n",
            "-0.14031844 weed, time of bram-ble along the **bank** of a canal muddy with old newspaper close\n",
            "-0.13302709 our own as we come sliding down the **bank**. last night, we covered the gardens\n",
            "-0.13197082 es that spread without prints onto the screaming **bank**. “ now, tell me one difference\n",
            "-0.12787624 holes at the br-im of the clay **bank** as the creek eased up pe-l-vic\n",
            "-0.12548192 , the beaver. i will climb the **bank** where the willow never dies. behind the\n",
            "-0.11994024 one giant cai-man bas-king on the **bank**. the jaguar ’ s all swimming stealth\n",
            "-0.11217757 man jo-gs. the river ’ s **bank** green, small trees bob in the wind\n",
            "-0.097307995 ut-tle back into mud holes drilling the **bank**. bending down to look, i could\n",
            "-0.0954982 roared everywhere around us, yet from the **bank** all we could see of it were quick\n",
            "-0.09499898 a ya-wn-ing soldier knelt against the **bank**, staring across the morning b-lea-r\n",
            "-0.09487349 the heron ’ s great rise from the **bank**. last a carp leaps, voices and\n",
            "-0.07492577 of reed-s heron-s watching from the **bank** hen-ges whole fields honey-combe-d with\n",
            "-0.07284964 cl-ump and cave-d - in grassy **bank**. last year ’ s downed trees,\n",
            "-0.071934074 , flickering of a grey tail on the **bank**, motionless hull-s enormous under a dead\n",
            "-0.06982722 in their shove and jo-stle down a **bank**, drinking, mud ca-king lips.\n",
            "-0.020999689 read us again. but for a low **bank** of cloud, clear morning, empty sky\n",
            "-0.01888436 . kneeling i plunge the spoon into the **bank** : chicken bro-th & amp ; rice\n",
            "-0.016063318 , lick the ic-icle broken from the **bank** and still say nothing at all, only\n",
            "0.0067129973 comes down, and roar-s fra-e **bank** to bra-e ; and bird and beast\n",
            "0.029491168 i cl-ing. a range of clouds **bank**-ed up behind the peak of that ap\n",
            "0.03130585 forever eli-ding. today is a fog **bank** in which i am hiding. love is\n",
            "0.03668937 remember a gang of friends racing a fog **bank** ’ s onslaught along the beach. seal\n",
            "0.041082602 down ) fell in my dream beside the **bank** of england ’ s wall to be,\n",
            "0.06507785 tires, lifted as if on wires, **bank**-ed over ice and rocked its wings to\n",
            "0.069083504 content realms of atmosphere at play beyond the **bank** and sho-al of time. then resonance\n",
            "0.10132018 wished his only daughter to work in the **bank** but he ’ d given her a source\n",
            "0.11680327 alone. beneath a dove and rainbow some **bank** their fire, wrap their er-ogen-ous\n",
            "0.17259574 uga-r to come by. i always **bank** on something parc-hed and am-bling to\n",
            "0.17880008 goes to. it could be at a **bank** or a library or turning a piece of\n",
            "0.18004216 on their shaft, or the iron turkey **bank** and the porcelain coffee cup that disappeared a\n",
            "0.1969021 dad dead, mom — back in the **bank**, teller-ing — started dressing in cute\n",
            "0.1990263 of my life, the woman at the **bank** tells me. though i ’ d like\n",
            "0.21866891 anti - tank missiles swarm-ed through numbered **bank** accounts like o-vid ’ s see-thing\n",
            "0.2274902 . ( hence the failure of the medici **bank**. ) none of it ’ s there\n",
            "0.22945273 , even that which you ’ ve long **bank**-roll-ed. ladies, who of my\n",
            "0.24192667 young until you retire, and however you **bank** your screw, the money you save won\n",
            "0.2555676 . it is not like going to the **bank**. there are no hard candi-es in\n",
            "0.26580203 - backed chair at a desk and his **bank** account is empty and he wishes for death\n",
            "0.2790268 no watch, no sleeping bag, no **bank**-book. the apartment looks the way it\n"
          ],
          "name": "stdout"
        }
      ]
    },
    {
      "cell_type": "markdown",
      "metadata": {
        "id": "oqC1kn1sBDb7"
      },
      "source": [
        "We can also search *all* of the vectors for words similar to a query word. "
      ]
    },
    {
      "cell_type": "code",
      "metadata": {
        "id": "NzxT2oC-3sDN"
      },
      "source": [
        "def get_nearest(query_vector, n=30):\n",
        "  cosines = all_token_vectors.dot(query_vector)\n",
        "  ordering = np.flip(np.argsort(cosines))\n",
        "  return ordering[:n]"
      ],
      "execution_count": null,
      "outputs": []
    },
    {
      "cell_type": "markdown",
      "metadata": {
        "id": "e-ZnvlA0hEQJ"
      },
      "source": [
        "To do so, we need to find the word position of our desired search keyword."
      ]
    },
    {
      "cell_type": "code",
      "metadata": {
        "colab": {
          "base_uri": "https://localhost:8080/",
          "height": 875
        },
        "id": "sQP16q9Fgebk",
        "outputId": "3cc011d8-d5eb-40e3-98d0-93c63998968f"
      },
      "source": [
        "search_keyword = 'plunge'\n",
        "word_positions = np.where(all_token_ids == tokenizer.vocab[search_keyword])[0]\n",
        "for position in word_positions:\n",
        "\n",
        "  print_md(f\"<br> {position}: {get_context(position)} <br>\")"
      ],
      "execution_count": null,
      "outputs": [
        {
          "output_type": "display_data",
          "data": {
            "text/markdown": "<br> 10905: quickly, quickly cut him off from the known. **plunge** your source into the strange, the invisible wells gone <br>",
            "text/plain": [
              "<IPython.core.display.Markdown object>"
            ]
          },
          "metadata": {
            "tags": []
          }
        },
        {
          "output_type": "display_data",
          "data": {
            "text/markdown": "<br> 14071: oran-ts describe the chop in grunt-s, then **plunge** through thirty feet of grease. i try to hold <br>",
            "text/plain": [
              "<IPython.core.display.Markdown object>"
            ]
          },
          "metadata": {
            "tags": []
          }
        },
        {
          "output_type": "display_data",
          "data": {
            "text/markdown": "<br> 22382: oran-t inc-ong-ru-ous flights parallel and merging **plunge** into slap out of tidal pools the fresh kills beak <br>",
            "text/plain": [
              "<IPython.core.display.Markdown object>"
            ]
          },
          "metadata": {
            "tags": []
          }
        },
        {
          "output_type": "display_data",
          "data": {
            "text/markdown": "<br> 88663: out on the side of the road. kneeling i **plunge** the spoon into the bank : chicken bro-th & <br>",
            "text/plain": [
              "<IPython.core.display.Markdown object>"
            ]
          },
          "metadata": {
            "tags": []
          }
        },
        {
          "output_type": "display_data",
          "data": {
            "text/markdown": "<br> 146724: ; wounds the bird of paradise. on paths that **plunge** into pri-mo-rdial green, echo ’ s laughter <br>",
            "text/plain": [
              "<IPython.core.display.Markdown object>"
            ]
          },
          "metadata": {
            "tags": []
          }
        },
        {
          "output_type": "display_data",
          "data": {
            "text/markdown": "<br> 181825: of sunrise before his mind bell-ows start. he **plunge**-s in to tame the water before the water tame <br>",
            "text/plain": [
              "<IPython.core.display.Markdown object>"
            ]
          },
          "metadata": {
            "tags": []
          }
        },
        {
          "output_type": "display_data",
          "data": {
            "text/markdown": "<br> 190693: and down - and hit a world, at every **plunge**, and finished knowing - then - turning to watch <br>",
            "text/plain": [
              "<IPython.core.display.Markdown object>"
            ]
          },
          "metadata": {
            "tags": []
          }
        },
        {
          "output_type": "display_data",
          "data": {
            "text/markdown": "<br> 250516: fold all its loose - flowing garments into one, **plunge**-s upon the shore, and floods the dun pale <br>",
            "text/plain": [
              "<IPython.core.display.Markdown object>"
            ]
          },
          "metadata": {
            "tags": []
          }
        },
        {
          "output_type": "display_data",
          "data": {
            "text/markdown": "<br> 263690: d buffet-ings gan-nets alternately appear and vanish, **plunge**, rise, and loft and give their heads a <br>",
            "text/plain": [
              "<IPython.core.display.Markdown object>"
            ]
          },
          "metadata": {
            "tags": []
          }
        },
        {
          "output_type": "display_data",
          "data": {
            "text/markdown": "<br> 304352: of star-light bear broken messages among mountains where shadows **plunge** yet our brightness is un-wave-ring ken-nst du <br>",
            "text/plain": [
              "<IPython.core.display.Markdown object>"
            ]
          },
          "metadata": {
            "tags": []
          }
        },
        {
          "output_type": "display_data",
          "data": {
            "text/markdown": "<br> 316146: in all my dreams before my helpless sight, he **plunge**-s at me, gut-tering, choking, drowning <br>",
            "text/plain": [
              "<IPython.core.display.Markdown object>"
            ]
          },
          "metadata": {
            "tags": []
          }
        },
        {
          "output_type": "display_data",
          "data": {
            "text/markdown": "<br> 331272: converge : warmth, humidity, temperature ’ s sudden **plunge** ; a child ’ s brain, objects, sound <br>",
            "text/plain": [
              "<IPython.core.display.Markdown object>"
            ]
          },
          "metadata": {
            "tags": []
          }
        },
        {
          "output_type": "display_data",
          "data": {
            "text/markdown": "<br> 545234: make my way up-hill past a startled horse who **plunge**-s in the pad-dock above the nun-nery. <br>",
            "text/plain": [
              "<IPython.core.display.Markdown object>"
            ]
          },
          "metadata": {
            "tags": []
          }
        },
        {
          "output_type": "display_data",
          "data": {
            "text/markdown": "<br> 594050: pirate ’ s plank, the diving board, the **plunge**, nor with the moon whether she be zombie or <br>",
            "text/plain": [
              "<IPython.core.display.Markdown object>"
            ]
          },
          "metadata": {
            "tags": []
          }
        },
        {
          "output_type": "display_data",
          "data": {
            "text/markdown": "<br> 596775: . the prophet stands eye level with the ve-nding **plunge**, a here and now mechanism he would need to <br>",
            "text/plain": [
              "<IPython.core.display.Markdown object>"
            ]
          },
          "metadata": {
            "tags": []
          }
        },
        {
          "output_type": "display_data",
          "data": {
            "text/markdown": "<br> 636251: old ferry along the banks of the ar-no, **plunge**-s his wooden bail-er into the bottom of the <br>",
            "text/plain": [
              "<IPython.core.display.Markdown object>"
            ]
          },
          "metadata": {
            "tags": []
          }
        },
        {
          "output_type": "display_data",
          "data": {
            "text/markdown": "<br> 654514: _ _ _ _ _ _ having once taken the **plunge** the situation that preceded it becomes obsolete which a moment <br>",
            "text/plain": [
              "<IPython.core.display.Markdown object>"
            ]
          },
          "metadata": {
            "tags": []
          }
        },
        {
          "output_type": "display_data",
          "data": {
            "text/markdown": "<br> 715675: what we make to keep making ) the concrete saw **plunge**-s and res-ur-face-s, precise as a <br>",
            "text/plain": [
              "<IPython.core.display.Markdown object>"
            ]
          },
          "metadata": {
            "tags": []
          }
        },
        {
          "output_type": "display_data",
          "data": {
            "text/markdown": "<br> 789728: turkey sheds. ii the small world of the car **plunge**-s through the deep fields of the night, on <br>",
            "text/plain": [
              "<IPython.core.display.Markdown object>"
            ]
          },
          "metadata": {
            "tags": []
          }
        },
        {
          "output_type": "display_data",
          "data": {
            "text/markdown": "<br> 837053: , 1969 - 74. a headache makes your mouth **plunge**, then it pulls away. the smell of diesel <br>",
            "text/plain": [
              "<IPython.core.display.Markdown object>"
            ]
          },
          "metadata": {
            "tags": []
          }
        },
        {
          "output_type": "display_data",
          "data": {
            "text/markdown": "<br> 852433: you said, sliding a needle, watching do-pe **plunge**, the body ' s rush and tow until you <br>",
            "text/plain": [
              "<IPython.core.display.Markdown object>"
            ]
          },
          "metadata": {
            "tags": []
          }
        }
      ]
    },
    {
      "cell_type": "code",
      "metadata": {
        "id": "Us6ATXKhgz_k"
      },
      "source": [
        "keyword_position = 10905"
      ],
      "execution_count": null,
      "outputs": []
    },
    {
      "cell_type": "code",
      "metadata": {
        "colab": {
          "base_uri": "https://localhost:8080/",
          "height": 721
        },
        "id": "kw_oyyOk5ual",
        "outputId": "01729c1a-92ea-4447-fae4-19552956d8f3"
      },
      "source": [
        "contexts = [get_context(token_id) for token_id in get_nearest(all_token_vectors[keyword_position,:])]\n",
        "for context in contexts:\n",
        "  print_md(context)"
      ],
      "execution_count": null,
      "outputs": [
        {
          "output_type": "display_data",
          "data": {
            "text/markdown": "quickly, quickly cut him off from the known. **plunge** your source into the strange, the invisible wells gone",
            "text/plain": [
              "<IPython.core.display.Markdown object>"
            ]
          },
          "metadata": {
            "tags": []
          }
        },
        {
          "output_type": "display_data",
          "data": {
            "text/markdown": "out on the side of the road. kneeling i **plunge** the spoon into the bank : chicken bro-th &",
            "text/plain": [
              "<IPython.core.display.Markdown object>"
            ]
          },
          "metadata": {
            "tags": []
          }
        },
        {
          "output_type": "display_data",
          "data": {
            "text/markdown": "really trying 1. first things first : surprise, **catch** your source off balance when he least expects it :",
            "text/plain": [
              "<IPython.core.display.Markdown object>"
            ]
          },
          "metadata": {
            "tags": []
          }
        },
        {
          "output_type": "display_data",
          "data": {
            "text/markdown": "oran-ts describe the chop in grunt-s, then **plunge** through thirty feet of grease. i try to hold",
            "text/plain": [
              "<IPython.core.display.Markdown object>"
            ]
          },
          "metadata": {
            "tags": []
          }
        },
        {
          "output_type": "display_data",
          "data": {
            "text/markdown": ". i, with a shift of my skin, **dive**-st my self to become the rock that shadows it",
            "text/plain": [
              "<IPython.core.display.Markdown object>"
            ]
          },
          "metadata": {
            "tags": []
          }
        },
        {
          "output_type": "display_data",
          "data": {
            "text/markdown": "more sen-su-ous than the rest ) about to **dive** into the deep - blue waiting — call it the",
            "text/plain": [
              "<IPython.core.display.Markdown object>"
            ]
          },
          "metadata": {
            "tags": []
          }
        },
        {
          "output_type": "display_data",
          "data": {
            "text/markdown": "man ' s eyes saves no one, but to **fling** them with a grace you did not know you knew",
            "text/plain": [
              "<IPython.core.display.Markdown object>"
            ]
          },
          "metadata": {
            "tags": []
          }
        },
        {
          "output_type": "display_data",
          "data": {
            "text/markdown": "so carefully without breaking a single pearl-y cell to **slide** each piece into a cold blue china bowl the juice",
            "text/plain": [
              "<IPython.core.display.Markdown object>"
            ]
          },
          "metadata": {
            "tags": []
          }
        },
        {
          "output_type": "display_data",
          "data": {
            "text/markdown": "; wounds the bird of paradise. on paths that **plunge** into pri-mo-rdial green, echo ’ s laughter",
            "text/plain": [
              "<IPython.core.display.Markdown object>"
            ]
          },
          "metadata": {
            "tags": []
          }
        },
        {
          "output_type": "display_data",
          "data": {
            "text/markdown": "turkey sheds. ii the small world of the car **plunge**-s through the deep fields of the night, on",
            "text/plain": [
              "<IPython.core.display.Markdown object>"
            ]
          },
          "metadata": {
            "tags": []
          }
        },
        {
          "output_type": "display_data",
          "data": {
            "text/markdown": ", a res-urgent stretch of store-front-s to **dive** into, com-pad-re, col leg-no,",
            "text/plain": [
              "<IPython.core.display.Markdown object>"
            ]
          },
          "metadata": {
            "tags": []
          }
        },
        {
          "output_type": "display_data",
          "data": {
            "text/markdown": ", knee-l and drive the old nails home, **slide** another shin-gle into place, pound, toes bent",
            "text/plain": [
              "<IPython.core.display.Markdown object>"
            ]
          },
          "metadata": {
            "tags": []
          }
        },
        {
          "output_type": "display_data",
          "data": {
            "text/markdown": "old ferry along the banks of the ar-no, **plunge**-s his wooden bail-er into the bottom of the",
            "text/plain": [
              "<IPython.core.display.Markdown object>"
            ]
          },
          "metadata": {
            "tags": []
          }
        },
        {
          "output_type": "display_data",
          "data": {
            "text/markdown": "his daughter, who died after a car wreck. **wedge** her into the smoky path & amp ; cover her",
            "text/plain": [
              "<IPython.core.display.Markdown object>"
            ]
          },
          "metadata": {
            "tags": []
          }
        },
        {
          "output_type": "display_data",
          "data": {
            "text/markdown": "blaze of day behind blank eyes. sound : birds **stab** greedy beak-s into trunk and seed, spill hu",
            "text/plain": [
              "<IPython.core.display.Markdown object>"
            ]
          },
          "metadata": {
            "tags": []
          }
        },
        {
          "output_type": "display_data",
          "data": {
            "text/markdown": "you said, sliding a needle, watching do-pe **plunge**, the body ' s rush and tow until you",
            "text/plain": [
              "<IPython.core.display.Markdown object>"
            ]
          },
          "metadata": {
            "tags": []
          }
        },
        {
          "output_type": "display_data",
          "data": {
            "text/markdown": "i have seen it melt out of his eyes it **dive**-s into the por-es of the earth when they",
            "text/plain": [
              "<IPython.core.display.Markdown object>"
            ]
          },
          "metadata": {
            "tags": []
          }
        },
        {
          "output_type": "display_data",
          "data": {
            "text/markdown": "still water to deny them. but whale, you **dive** down until the ocean ’ s ground begs you solid",
            "text/plain": [
              "<IPython.core.display.Markdown object>"
            ]
          },
          "metadata": {
            "tags": []
          }
        },
        {
          "output_type": "display_data",
          "data": {
            "text/markdown": "of sunrise before his mind bell-ows start. he **plunge**-s in to tame the water before the water tame",
            "text/plain": [
              "<IPython.core.display.Markdown object>"
            ]
          },
          "metadata": {
            "tags": []
          }
        },
        {
          "output_type": "display_data",
          "data": {
            "text/markdown": "d buffet-ings gan-nets alternately appear and vanish, **plunge**, rise, and loft and give their heads a",
            "text/plain": [
              "<IPython.core.display.Markdown object>"
            ]
          },
          "metadata": {
            "tags": []
          }
        },
        {
          "output_type": "display_data",
          "data": {
            "text/markdown": "then. we ’ d wrap the copper pipe and **drop** it in, then use the telephone battery to make",
            "text/plain": [
              "<IPython.core.display.Markdown object>"
            ]
          },
          "metadata": {
            "tags": []
          }
        },
        {
          "output_type": "display_data",
          "data": {
            "text/markdown": "lone bulls at home when they smell pasture. they **thrust** their bone skulls under bar-bs, tongues quivering for",
            "text/plain": [
              "<IPython.core.display.Markdown object>"
            ]
          },
          "metadata": {
            "tags": []
          }
        },
        {
          "output_type": "display_data",
          "data": {
            "text/markdown": ", craving earth like an after-tas-te. to **discover** in one ' s hand two local stones the size",
            "text/plain": [
              "<IPython.core.display.Markdown object>"
            ]
          },
          "metadata": {
            "tags": []
          }
        },
        {
          "output_type": "display_data",
          "data": {
            "text/markdown": "morning while he shit-s on the can. det **ain** and con-fine, quickly, quickly cut him off",
            "text/plain": [
              "<IPython.core.display.Markdown object>"
            ]
          },
          "metadata": {
            "tags": []
          }
        },
        {
          "output_type": "display_data",
          "data": {
            "text/markdown": "birds stab greedy beak-s into trunk and seed, **spill** hu-sk onto the heap where my dreaming and my",
            "text/plain": [
              "<IPython.core.display.Markdown object>"
            ]
          },
          "metadata": {
            "tags": []
          }
        },
        {
          "output_type": "display_data",
          "data": {
            "text/markdown": "of the feet. ni-bble earl-obe-s, **dip** my tongue in the salt fold of shoulder and throat",
            "text/plain": [
              "<IPython.core.display.Markdown object>"
            ]
          },
          "metadata": {
            "tags": []
          }
        },
        {
          "output_type": "display_data",
          "data": {
            "text/markdown": "angel - fat, steal it in mouthful-s, **store** it away where you save the face that you touched",
            "text/plain": [
              "<IPython.core.display.Markdown object>"
            ]
          },
          "metadata": {
            "tags": []
          }
        },
        {
          "output_type": "display_data",
          "data": {
            "text/markdown": "peas, to cup water in our hands, to **seek** the right screw under the sofa for hours this gives",
            "text/plain": [
              "<IPython.core.display.Markdown object>"
            ]
          },
          "metadata": {
            "tags": []
          }
        },
        {
          "output_type": "display_data",
          "data": {
            "text/markdown": "grief as greasy children reach deep into my fever to **scoop** out their revenge in double - dip-s..",
            "text/plain": [
              "<IPython.core.display.Markdown object>"
            ]
          },
          "metadata": {
            "tags": []
          }
        },
        {
          "output_type": "display_data",
          "data": {
            "text/markdown": "of the feet. ni-bble earl-obe-s, **dip** my tongue in the salt fold of shoulder and throat",
            "text/plain": [
              "<IPython.core.display.Markdown object>"
            ]
          },
          "metadata": {
            "tags": []
          }
        }
      ]
    }
  ]
}